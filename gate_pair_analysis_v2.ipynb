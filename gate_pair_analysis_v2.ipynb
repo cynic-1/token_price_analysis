{
 "cells": [
  {
   "cell_type": "code",
   "execution_count": 1,
   "metadata": {
    "collapsed": true,
    "ExecuteTime": {
     "end_time": "2023-11-10T08:03:45.438196100Z",
     "start_time": "2023-11-10T08:03:44.192462700Z"
    }
   },
   "outputs": [],
   "source": [
    "# coding: utf-8\n",
    "import requests\n",
    "import time\n",
    "import pandas as pd\n",
    "import matplotlib.pyplot as plt\n",
    "\n",
    "# 绘制滤波前后的时间序列图\n",
    "plt.rcParams['font.sans-serif'] = ['SimHei']  # 设置中文字体为宋体或其他已安装的字体\n",
    "plt.rcParams['axes.unicode_minus'] = False  # 解决保存图像是负号'-'显示为方块的问题\n",
    "\n",
    "PATH = 'D:/All About Learning/Quant/gate/'"
   ]
  },
  {
   "cell_type": "code",
   "execution_count": 2,
   "outputs": [],
   "source": [
    "def get_candle_sticks(pair: str, after: str = '', before: str = '', interval: str = '7d'):\n",
    "    host = \"https://api.gateio.ws\"\n",
    "    prefix = \"/api/v4\"\n",
    "    headers = {'Accept': 'application/json', 'Content-Type': 'application/json'}\n",
    "\n",
    "    url = '/spot/candlesticks'\n",
    "    query_param = f'currency_pair={pair}&interval={interval}'\n",
    "    if after != '':\n",
    "        query_param += f'&from={after}'\n",
    "    if before != '':\n",
    "        query_param += f'&to={before}'\n",
    "\n",
    "    r = requests.request('GET', host + prefix + url + \"?\" + query_param, headers=headers)\n",
    "    return r.json()"
   ],
   "metadata": {
    "collapsed": false,
    "ExecuteTime": {
     "end_time": "2023-11-10T08:03:47.169715700Z",
     "start_time": "2023-11-10T08:03:47.133741900Z"
    }
   }
  },
  {
   "cell_type": "code",
   "execution_count": 69,
   "outputs": [
    {
     "name": "stdout",
     "output_type": "stream",
     "text": [
      "             0                    1         2         3         4         5  \\\n",
      "0   1639353600   685901491.92981140  46691.75  50183.44   45455.3  50058.12   \n",
      "1   1639958400   494501836.71176106   50769.1  51816.08  45573.97  46683.15   \n",
      "2   1640563200   759599244.50330850  47296.37  52079.14     45700   50769.1   \n",
      "3   1641168000   892842910.31189970  41860.17  47564.23  40528.06  47296.36   \n",
      "4   1641772800   522086714.12299454  43072.57  44418.93  39653.46  41868.74   \n",
      "..         ...                  ...       ...       ...       ...       ...   \n",
      "95  1696809600   729958792.27261250   27154.8   27987.8     26538   27919.3   \n",
      "96  1697414400  1645821369.38518760   29991.5   30380.5   27114.6     27153   \n",
      "97  1698019200  3360004588.73374560   34525.6   35427.4   29881.6   29991.5   \n",
      "98  1698624000  1599896364.87064670   35011.9   35983.4   34035.7   34525.7   \n",
      "99  1699228800   523199934.17492145   35300.4   35887.9   34523.1   35011.9   \n",
      "\n",
      "                 6  \n",
      "0   14463.37598711  \n",
      "1   10051.09464372  \n",
      "2   15806.54176038  \n",
      "3   20524.01574458  \n",
      "4   12310.30745621  \n",
      "..             ...  \n",
      "95  26906.38980327  \n",
      "96  57037.67155740  \n",
      "97  99747.53221901  \n",
      "98  46088.41164843  \n",
      "99  14921.29775148  \n",
      "\n",
      "[100 rows x 7 columns]\n"
     ]
    }
   ],
   "source": [
    "btc = get_candle_sticks('BTC_USDT')\n",
    "data = pd.DataFrame(btc)\n",
    "print(data)"
   ],
   "metadata": {
    "collapsed": false,
    "ExecuteTime": {
     "end_time": "2023-11-08T10:04:11.823755300Z",
     "start_time": "2023-11-08T10:04:10.927187500Z"
    }
   }
  },
  {
   "cell_type": "markdown",
   "source": [
    "根据与gateio的tradingview对照，返回的字段应该是：['时间戳', 'xxx', '收盘', '高点', '低点', '开盘', '成交量']"
   ],
   "metadata": {
    "collapsed": false
   }
  },
  {
   "cell_type": "code",
   "execution_count": 70,
   "outputs": [],
   "source": [
    "data.columns=['时间戳', '成交额', '收盘', '高点', '低点', '开盘', '成交量']\n",
    "data.set_index('时间戳', inplace=True)"
   ],
   "metadata": {
    "collapsed": false,
    "ExecuteTime": {
     "end_time": "2023-11-08T10:04:11.834701400Z",
     "start_time": "2023-11-08T10:04:11.822761900Z"
    }
   }
  },
  {
   "cell_type": "code",
   "execution_count": 71,
   "outputs": [
    {
     "name": "stdout",
     "output_type": "stream",
     "text": [
      "                            成交额        收盘        高点        低点        开盘  \\\n",
      "时间戳                                                                       \n",
      "1639353600   685901491.92981140  46691.75  50183.44   45455.3  50058.12   \n",
      "1639958400   494501836.71176106   50769.1  51816.08  45573.97  46683.15   \n",
      "1640563200   759599244.50330850  47296.37  52079.14     45700   50769.1   \n",
      "1641168000   892842910.31189970  41860.17  47564.23  40528.06  47296.36   \n",
      "1641772800   522086714.12299454  43072.57  44418.93  39653.46  41868.74   \n",
      "...                         ...       ...       ...       ...       ...   \n",
      "1696809600   729958792.27261250   27154.8   27987.8     26538   27919.3   \n",
      "1697414400  1645821369.38518760   29991.5   30380.5   27114.6     27153   \n",
      "1698019200  3360004588.73374560   34525.6   35427.4   29881.6   29991.5   \n",
      "1698624000  1599896364.87064670   35011.9   35983.4   34035.7   34525.7   \n",
      "1699228800   523199934.17492145   35300.4   35887.9   34523.1   35011.9   \n",
      "\n",
      "                       成交量  \n",
      "时间戳                         \n",
      "1639353600  14463.37598711  \n",
      "1639958400  10051.09464372  \n",
      "1640563200  15806.54176038  \n",
      "1641168000  20524.01574458  \n",
      "1641772800  12310.30745621  \n",
      "...                    ...  \n",
      "1696809600  26906.38980327  \n",
      "1697414400  57037.67155740  \n",
      "1698019200  99747.53221901  \n",
      "1698624000  46088.41164843  \n",
      "1699228800  14921.29775148  \n",
      "\n",
      "[100 rows x 6 columns]\n"
     ]
    }
   ],
   "source": [
    "print(data)"
   ],
   "metadata": {
    "collapsed": false,
    "ExecuteTime": {
     "end_time": "2023-11-08T10:04:11.845831900Z",
     "start_time": "2023-11-08T10:04:11.829295Z"
    }
   }
  },
  {
   "cell_type": "code",
   "execution_count": 3,
   "outputs": [],
   "source": [
    "def get_all_pairs():\n",
    "    host = \"https://api.gateio.ws\"\n",
    "    prefix = \"/api/v4\"\n",
    "    headers = {'Accept': 'application/json', 'Content-Type': 'application/json'}\n",
    "\n",
    "    url = '/spot/currency_pairs'\n",
    "    query_param = ''\n",
    "    r = requests.request('GET', host + prefix + url, headers=headers)\n",
    "    result = r.json()\n",
    "    return {item['id']: item['sell_start'] for item in result}"
   ],
   "metadata": {
    "collapsed": false,
    "ExecuteTime": {
     "end_time": "2023-11-10T08:03:52.750522300Z",
     "start_time": "2023-11-10T08:03:52.734511300Z"
    }
   }
  },
  {
   "cell_type": "code",
   "execution_count": 4,
   "outputs": [],
   "source": [
    "import re\n",
    "\n",
    "def remove_lever_pairs(pairs):\n",
    "    pattern = re.compile(r'(\\d+[SL])$')\n",
    "    clean_pairs = {}\n",
    "    # 去除X倍多/空情况\n",
    "    for pair in pairs:\n",
    "        token, _ = pair.split('_')\n",
    "        if not re.search(pattern, token):\n",
    "            clean_pairs[pair] = pairs[pair]\n",
    "\n",
    "    return clean_pairs"
   ],
   "metadata": {
    "collapsed": false,
    "ExecuteTime": {
     "end_time": "2023-11-10T08:03:54.240551100Z",
     "start_time": "2023-11-10T08:03:54.224523900Z"
    }
   }
  },
  {
   "cell_type": "code",
   "execution_count": 5,
   "outputs": [],
   "source": [
    "def get_usdt_pairs(pairs):\n",
    "    usdt_pairs = {}\n",
    "    for pair in pairs:\n",
    "        # 获取yy部分\n",
    "        stable = pair.split('_')[1]\n",
    "        if stable == 'USDT':\n",
    "            usdt_pairs[pair] = pairs[pair]\n",
    "    return usdt_pairs"
   ],
   "metadata": {
    "collapsed": false,
    "ExecuteTime": {
     "end_time": "2023-11-10T08:03:55.618800100Z",
     "start_time": "2023-11-10T08:03:55.590765600Z"
    }
   }
  },
  {
   "cell_type": "code",
   "execution_count": 6,
   "outputs": [],
   "source": [
    "def get_all_spot_usdt_pairs():\n",
    "    return remove_lever_pairs(get_usdt_pairs(get_all_pairs()))"
   ],
   "metadata": {
    "collapsed": false,
    "ExecuteTime": {
     "end_time": "2023-11-10T08:03:56.684674700Z",
     "start_time": "2023-11-10T08:03:56.664673600Z"
    }
   }
  },
  {
   "cell_type": "code",
   "execution_count": 76,
   "outputs": [
    {
     "name": "stdout",
     "output_type": "stream",
     "text": [
      "['10SET_USDT', '1ART_USDT', '1EARTH_USDT', '1INCH_USDT', '3KM_USDT', '4TOKEN_USDT', '88MPH_USDT', 'AAG_USDT', 'AART_USDT', 'AAVE_USDT', 'ABBC_USDT', 'ABT_USDT', 'ACA_USDT', 'ACE_USDT', 'ACH_USDT', 'ACM_USDT', 'ACN_USDT', 'ACS_USDT', 'ACX_USDT', 'ADAPAD_USDT', 'ADA_USDT', 'ADEL_USDT', 'ADP_USDT', 'ADS_USDT', 'ADX_USDT', 'AD_USDT', 'AERGO_USDT', 'AE_USDT', 'AFC_USDT', 'AGB_USDT', 'AGILITY_USDT', 'AGIX_USDT', 'AGI_USDT', 'AGLA_USDT', 'AGLD_USDT', 'AGS_USDT', 'AG_USDT', 'AIBB_USDT', 'AICODE_USDT', 'AIDOGE_USDT', 'AIEPK_USDT', 'AIE_USDT', 'AIOZ_USDT', 'AIRTNT_USDT', 'AIR_USDT', 'AISC_USDT', 'AIS_USDT', 'AITECH_USDT', 'AKITA_USDT', 'AKRO_USDT', 'AKT_USDT', 'AKV_USDT', 'ALAYA_USDT', 'ALA_USDT', 'ALCX_USDT', 'ALD_USDT', 'ALEPH_USDT', 'ALEX_USDT', 'ALGO_USDT', 'ALICE_USDT', 'ALI_USDT', 'ALN_USDT', 'ALPACA_USDT', 'ALPA_USDT', 'ALPHA_USDT', 'ALPHR_USDT', 'ALPH_USDT', 'ALPINE_USDT', 'ALTB_USDT', 'ALU_USDT', 'ALY_USDT', 'AMB_USDT', 'AMC_USDT', 'AME_USDT', 'AMKT_USDT', 'AMPL_USDT', 'AMP_USDT', 'AMS_USDT', 'AM_USDT', 'ANC_USDT', 'ANGLE_USDT', 'ANKR_USDT', 'ANML_USDT', 'ANT_USDT', 'AOG_USDT', 'APED_USDT', 'APE_USDT', 'API3_USDT', 'APN_USDT', 'APRT_USDT', 'APT_USDT', 'APX_USDT', 'APYS_USDT', 'AQDC_USDT', 'AQT_USDT', 'ARBI_USDT', 'ARB_USDT', 'ARCH_USDT', 'ARCX_USDT', 'ARES_USDT', 'ARGON_USDT', 'ARG_USDT', 'ARKM_USDT', 'ARKS_USDT', 'ARK_USDT', 'ARPA_USDT', 'ARRR_USDT', 'ARSW_USDT', 'ARTEM_USDT', 'ARV_USDT', 'AR_USDT', 'ASD_USDT', 'ASK_USDT', 'ASM_USDT', 'ASR_USDT', 'ASS_USDT', 'ASTO_USDT', 'ASTRA_USDT', 'ASTRO_USDT', 'ASTR_USDT', 'AST_USDT', 'ASW_USDT', 'ATA_USDT', 'ATD_USDT', 'ATEAM_USDT', 'ATK_USDT', 'ATLAS_USDT', 'ATM_USDT', 'ATOLO_USDT', 'ATOM_USDT', 'ATOZ_USDT', 'ATP_USDT', 'ATS_USDT', 'AUCTION_USDT', 'AUDIO_USDT', 'AURA_USDT', 'AURORA_USDT', 'AUTO_USDT', 'AVAX_USDT', 'AVA_USDT', 'AVT_USDT', 'AXIS_USDT', 'AXL_USDT', 'AXS_USDT', 'AZERO_USDT', 'AZY_USDT', 'B3X_USDT', 'BABI_USDT', 'BABYDOGE_USDT', 'BABY_USDT', 'BACON_USDT', 'BAC_USDT', 'BADGER_USDT', 'BAGS_USDT', 'BAJU_USDT', 'BAKED_USDT', 'BAKE_USDT', 'BAL_USDT', 'BAMBOO_USDT', 'BAND_USDT', 'BANKBRC_USDT', 'BANK_USDT', 'BAO_USDT', 'BASEPTL_USDT', 'BAS_USDT', 'BAT_USDT', 'BBANK_USDT', 'BBC_USDT', 'BBF_USDT', 'BCDN_USDT', 'BCD_USDT', 'BCH_USDT', 'BCMC_USDT', 'BCN_USDT', 'BCUG_USDT', 'BCX_USDT', 'BDP_USDT', 'BDT_USDT', 'BDX_USDT', 'BEAMX_USDT', 'BEAM_USDT', 'BEAR_USDT', 'BEEFI_USDT', 'BEL_USDT', 'BENQI_USDT', 'BEPRO_USDT', 'BERRY_USDT', 'BETU_USDT', 'BEYOND_USDT', 'BFC_USDT', 'BFT1_USDT', 'BFT_USDT', 'BGT_USDT', 'BICO_USDT', 'BIFIF_USDT', 'BIFI_USDT', 'BIGTIME_USDT', 'BIN_USDT', 'BIOP_USDT', 'BIRD_USDT', 'BISO_USDT', 'BITCI_USDT', 'BKC_USDT', 'BLACK_USDT', 'BLANKV2_USDT', 'BLES_USDT', 'BLIN_USDT', 'BLOCK_USDT', 'BLOK_USDT', 'BLT_USDT', 'BLUR_USDT', 'BLY_USDT', 'BLZ_USDT', 'BMEX_USDT', 'BMI_USDT', 'BMON_USDT', 'BNB_USDT', 'BNC_USDT', 'BNTY_USDT', 'BNT_USDT', 'BNX_USDT', 'BOA_USDT', 'BOBA_USDT', 'BONDLY_USDT', 'BOND_USDT', 'BONE_USDT', 'BONK_USDT', 'BOO_USDT', 'BORA_USDT', 'BORING_USDT', 'BOSON_USDT', 'BOX_USDT', 'BP_USDT', 'BRICK_USDT', 'BRISE_USDT', 'BRKL_USDT', 'BRN_USDT', 'BRT_USDT', 'BRWL_USDT', 'BRY_USDT', 'BSCPAD_USDT', 'BSCS_USDT', 'BSVBRC_USDT', 'BSV_USDT', 'BSW_USDT', 'BS_USDT', 'BTCST_USDT', 'BTC_USDT', 'BTF_USDT', 'BTG_USDT', 'BTL_USDT', 'BTM_USDT', 'BTO_USDT', 'BTRST_USDT', 'BTS_USDT', 'BTT_USDT', 'BURP_USDT', 'BUSD_USDT', 'BUSY_USDT', 'BUY_USDT', 'BVT_USDT', 'BXC_USDT', 'BXH_USDT', 'BYN_USDT', 'BZZ_USDT', 'C98_USDT', 'CAKE_USDT', 'CAL_USDT', 'CANTO_USDT', 'CAPS_USDT', 'CARAT_USDT', 'CARE_USDT', 'CART_USDT', 'CATE_USDT', 'CATGIRL_USDT', 'CATHEON_USDT', 'CAT_USDT', 'CBK_USDT', 'CCAR_USDT', 'CDT_USDT', 'CEEK_USDT', 'CELL_USDT', 'CELO_USDT', 'CELR_USDT', 'CELT_USDT', 'CEL_USDT', 'CERE_USDT', 'CETUS_USDT', 'CEUR_USDT', 'CFG_USDT', 'CFI_USDT', 'CFX_USDT', 'CGG_USDT', 'CGPT_USDT', 'CGV_USDT', 'CHAIN_USDT', 'CHAMP_USDT', 'CHEEL_USDT', 'CHEQ_USDT', 'CHER_USDT', 'CHESS_USDT', 'CHNG_USDT', 'CHO_USDT', 'CHR_USDT', 'CHZ_USDT', 'CIRUS_USDT', 'CIR_USDT', 'CITY_USDT', 'CKB_USDT', 'CLH_USDT', 'CLIPS_USDT', 'CLO_USDT', 'CLV_USDT', 'CMP_USDT', 'CNAME_USDT', 'CNNS_USDT', 'COFIX_USDT', 'COFI_USDT', 'COMBO_USDT', 'COMP_USDT', 'CONV_USDT', 'COOK_USDT', 'CORAL_USDT', 'COREUM_USDT', 'CORE_USDT', 'CORN_USDT', 'COS_USDT', 'COTI_USDT', 'COVAL_USDT', 'COVER_USDT', 'CPOOL_USDT', 'CQT_USDT', 'CRAFT_USDT', 'CRBN_USDT', 'CRE8_USDT', 'CREAM_USDT', 'CREDIT_USDT', 'CRE_USDT', 'CRF_USDT', 'CROWN_USDT', 'CRO_USDT', 'CRPT_USDT', 'CRP_USDT', 'CRTS_USDT', 'CRT_USDT', 'CRU_USDT', 'CRVUSD_USDT', 'CRV_USDT', 'CRYPTOFI_USDT', 'CSIX_USDT', 'CSPR_USDT', 'CSTR_USDT', 'CS_USDT', 'CTC_USDT', 'CTG_USDT', 'CTI_USDT', 'CTK_USDT', 'CTRC_USDT', 'CTSI_USDT', 'CTT_USDT', 'CTY_USDT', 'CUDOS_USDT', 'CULT_USDT', 'CUMMIES_USDT', 'CUP_USDT', 'CUSD_USDT', 'CVAULTCORE_USDT', 'CVC_USDT', 'CVP_USDT', 'CVTX_USDT', 'CVX_USDT', 'CWAR_USDT', 'CWEB_USDT', 'CWS_USDT', 'CYBER_USDT', 'CYS_USDT', 'CZZ_USDT', 'D2T_USDT', 'DAFI_USDT', 'DAG_USDT', 'DAI_USDT', 'DAL_USDT', 'DANA_USDT', 'DAO_USDT', 'DARK_USDT', 'DAR_USDT', 'DASH_USDT', 'DATA_USDT', 'DBC_USDT', 'DCK_USDT', 'DCRN_USDT', 'DCR_USDT', 'DC_USDT', 'DDD_USDT', 'DDIM_USDT', 'DDOS_USDT', 'DEBT_USDT', 'DEFILAND_USDT', 'DEGO_USDT', 'DEK_USDT', 'DELFI_USDT', 'DENT_USDT', 'DEP_USDT', 'DERC_USDT', 'DERI_USDT', 'DESO_USDT', 'DES_USDT', 'DEUS_USDT', 'DEXE_USDT', 'DFA_USDT', 'DFI_USDT', 'DFL_USDT', 'DFND_USDT', 'DFYN_USDT', 'DFY_USDT', 'DF_USDT', 'DG_USDT', 'DHB_USDT', 'DHV_USDT', 'DHX_USDT', 'DIA_USDT', 'DIGG_USDT', 'DILI_USDT', 'DINO_USDT', 'DIONE_USDT', 'DIO_USDT', 'DIS_USDT', 'DIVER_USDT', 'DKA_USDT', 'DKS_USDT', 'DLC_USDT', 'DMC_USDT', 'DMLG_USDT', 'DMS_USDT', 'DMTR_USDT', 'DNXC_USDT', 'DOCK_USDT', 'DODO_USDT', 'DOGA_USDT', 'DOGE2_USDT', 'DOGE_USDT', 'DOGGO_USDT', 'DOGGY_USDT', 'DOGNFT_USDT', 'DOG_USDT', 'DOME_USDT', 'DOMI_USDT', 'DOP_USDT', 'DORA_USDT', 'DORKL_USDT', 'DOSE_USDT', 'DOS_USDT', 'DOT_USDT', 'DPET_USDT', 'DPR_USDT', 'DPY_USDT', 'DRAC_USDT', 'DREP_USDT', 'DRGN_USDT', 'DSD_USDT', 'DSLA_USDT', 'DUCK2_USDT', 'DUCK_USDT', 'DUSK_USDT', 'DUST_USDT', 'DVI_USDT', 'DVP_USDT', 'DV_USDT', 'DXCT_USDT', 'DX_USDT', 'DYDX_USDT', 'DYP_USDT', 'DZOO_USDT', 'ECOX_USDT', 'EDEN_USDT', 'EDG_USDT', 'EDU_USDT', 'EEG_USDT', 'EFI_USDT', 'EGAME_USDT', 'EGG_USDT', 'EGLD_USDT', 'EGS_USDT', 'EHASH_USDT', 'EJS_USDT', 'ELA_USDT', 'ELEC_USDT', 'ELF_USDT', 'ELON_USDT', 'ELS_USDT', 'ELU_USDT', 'EMON_USDT', 'EMPIRE_USDT', 'ENJ_USDT', 'ENNO_USDT', 'ENS_USDT', 'ENV_USDT', 'EOSDAC_USDT', 'EOS_USDT', 'EPIK_USDT', 'EPX_USDT', 'EQX_USDT', 'EQ_USDT', 'ERG_USDT', 'ERN_USDT', 'ESD_USDT', 'ESG_USDT', 'ESS_USDT', 'ETC_USDT', 'ETERNAL_USDT', 'ETE_USDT', 'ETH2_USDT', 'ETHA_USDT', 'ETHF_USDT', 'ETHW_USDT', 'ETH_USDT', 'EUL_USDT', 'EURT_USDT', 'EVA_USDT', 'EVER_USDT', 'EVRY_USDT', 'EWT_USDT', 'EZ_USDT', 'F2C_USDT', 'FALCONS_USDT', 'FAME_USDT', 'FAN_USDT', 'FARM_USDT', 'FAR_USDT', 'FBX_USDT', 'FCON_USDT', 'FDC_USDT', 'FDT_USDT', 'FDUSD_USDT', 'FEAR_USDT', 'FEG_USDT', 'FEI_USDT', 'FERC_USDT', 'FER_USDT', 'FET_USDT', 'FEVR_USDT', 'FIDA_USDT', 'FILDA_USDT', 'FIL_USDT', 'FINE_USDT', 'FIN_USDT', 'FIO_USDT', 'FIRE_USDT', 'FIRO_USDT', 'FIS_USDT', 'FITFI_USDT', 'FIU_USDT', 'FIWA_USDT', 'FLM_USDT', 'FLOKICEO_USDT', 'FLOKI_USDT', 'FLOW_USDT', 'FLR_USDT', 'FLURRY_USDT', 'FLUX_USDT', 'FLX_USDT', 'FLY_USDT', 'FNCY_USDT', 'FNF_USDT', 'FNSA_USDT', 'FNZ_USDT', 'FODL_USDT', 'FOREX_USDT', 'FORM_USDT', 'FORTH_USDT', 'FORT_USDT', 'FOR_USDT', 'FOUR_USDT', 'FOX_USDT', 'FPFT_USDT', 'FRAX_USDT', 'FRA_USDT', 'FREE_USDT', 'FRIN_USDT', 'FRM_USDT', 'FROG_USDT', 'FRONT_USDT', 'FRR_USDT', 'FSN_USDT', 'FST_USDT', 'FTI_USDT', 'FTM_USDT', 'FTN_USDT', 'FTRB_USDT', 'FTT_USDT', 'FUEL_USDT', 'FUN_USDT', 'FURUCOMBO_USDT', 'FUSE_USDT', 'FXF_USDT', 'FXS_USDT', 'FX_USDT', 'FYN_USDT', 'GAFI_USDT', 'GAIA_USDT', 'GALA_USDT', 'GALFAN_USDT', 'GALO_USDT', 'GAL_USDT', 'GAME_USDT', 'GAN_USDT', 'GARD_USDT', 'GARI_USDT', 'GASDAO_USDT', 'GAS_USDT', 'GAYPEPE_USDT', 'GBPT_USDT', 'GCOIN_USDT', 'GDAO_USDT', 'GDT_USDT', 'GEAR_USDT', 'GEL_USDT', 'GEM_USDT', 'GENS_USDT', 'GETA_USDT', 'GFI_USDT', 'GFT_USDT', 'GF_USDT', 'GGG_USDT', 'GGM_USDT', 'GHNY_USDT', 'GHST_USDT', 'GITCOIN_USDT', 'GLMR_USDT', 'GLM_USDT', 'GLQ_USDT', 'GMAT_USDT', 'GMEE_USDT', 'GMMT_USDT', 'GMM_USDT', 'GMPD_USDT', 'GMT_USDT', 'GMX_USDT', 'GM_USDT', 'GNO_USDT', 'GNS_USDT', 'GNX_USDT', 'GOAL_USDT', 'GOB_USDT', 'GOD_USDT', 'GOFX_USDT', 'GOF_USDT', 'GOLC_USDT', 'GOLDMINER_USDT', 'GOLD_USDT', 'GOMINING_USDT', 'GOVI_USDT', 'GOV_USDT', 'GOZ_USDT', 'GO_USDT', 'GQ_USDT', 'GRAIL_USDT', 'GRAP_USDT', 'GRBE_USDT', 'GRIN_USDT', 'GRND_USDT', 'GRT_USDT', 'GRV_USDT', 'GSE_USDT', 'GST_USDT', 'GS_USDT', 'GTC_USDT', 'GTH_USDT', 'GT_USDT', 'GUM_USDT', 'GXA_USDT', 'GXE_USDT', 'GZONE_USDT', 'HADES_USDT', 'HAHA_USDT', 'HAI_USDT', 'HAM_USDT', 'HAO_USDT', 'HAPI_USDT', 'HARD_USDT', 'HBAR_USDT', 'HCT_USDT', 'HC_USDT', 'HDV_USDT', 'HEART_USDT', 'HECH_USDT', 'HEGIC_USDT', 'HELLO_USDT', 'HERA_USDT', 'HERO_USDT', 'HE_USDT', 'HFT_USDT', 'HGET_USDT', 'HIBIKI_USDT', 'HIBS_USDT', 'HID_USDT', 'HIFI_USDT', 'HIGH_USDT', 'HIT_USDT', 'HIVE_USDT', 'HMTT_USDT', 'HMT_USDT', 'HNS_USDT', 'HNT_USDT', 'HOD_USDT', 'HOGE_USDT', 'HOME_USDT', 'HOOK_USDT', 'HOPR_USDT', 'HORD_USDT', 'HOTCROSS_USDT', 'HOT_USDT', 'HPB_USDT', 'HSC_USDT', 'HSF_USDT', 'HTM_USDT', 'HTR_USDT', 'HT_USDT', 'HXA_USDT', 'HYDRA_USDT', 'HYVE_USDT', 'IAG_USDT', 'IAZUKI_USDT', 'IBAYC_USDT', 'IBFK_USDT', 'ICE_USDT', 'ICONS_USDT', 'ICP_USDT', 'ICX_USDT', 'IDEA_USDT', 'IDEX_USDT', 'IDOODLES_USDT', 'IDV_USDT', 'ID_USDT', 'IGU_USDT', 'IHC_USDT', 'IHT_USDT', 'ILV_USDT', 'IMAYC_USDT', 'IMPT_USDT', 'IMX_USDT', 'INDI_USDT', 'INFRA_USDT', 'ING_USDT', 'INJ_USDT', 'INK_USDT', 'INSUR_USDT', 'INTER_USDT', 'INTR_USDT', 'INV_USDT', 'IOEN_USDT', 'IOI_USDT', 'IONX_USDT', 'IOST_USDT', 'IOTA_USDT', 'IOTX_USDT', 'IP3_USDT', 'IPAD_USDT', 'IPUNKS_USDT', 'IRIS_USDT', 'IRON_USDT', 'ISKY_USDT', 'ISK_USDT', 'ISP_USDT', 'ITA_USDT', 'ITEM_USDT', 'ITGR_USDT', 'ITRUMP_USDT', 'ITSB_USDT', 'IZI_USDT', 'JAM_USDT', 'JASMY_USDT', 'JFI_USDT', 'JGN_USDT', 'JOE_USDT', 'JOY_USDT', 'JST_USDT', 'JULD_USDT', 'JUV_USDT', 'K21_USDT', 'KABY_USDT', 'KAI_USDT', 'KALM_USDT', 'KAP_USDT', 'KARATE_USDT', 'KAR_USDT', 'KASTA_USDT', 'KAS_USDT', 'KAT_USDT', 'KAVA_USDT', 'KBD_USDT', 'KBOX_USDT', 'KCAL_USDT', 'KDA_USDT', 'KEX_USDT', 'KEY_USDT', 'KFC_USDT', 'KFT_USDT', 'KGC_USDT', 'KIBA_USDT', 'KICKS_USDT', 'KIF_USDT', 'KILT_USDT', 'KIMCHI_USDT', 'KINE_USDT', 'KINGSHIB_USDT', 'KING_USDT', 'KINT_USDT', 'KIN_USDT', 'KISHU_USDT', 'KLAP_USDT', 'KLAY_USDT', 'KLIMA_USDT', 'KLO_USDT', 'KLV_USDT', 'KMA_USDT', 'KMON_USDT', 'KNC_USDT', 'KNFT_USDT', 'KNIGHT_USDT', 'KNJ_USDT', 'KNOT_USDT', 'KOK_USDT', 'KONO_USDT', 'KON_USDT', 'KP3R_USDT', 'KPAD_USDT', 'KRL_USDT', 'KSM_USDT', 'KST_USDT', 'KTN_USDT', 'KTON_USDT', 'KT_USDT', 'KUBE_USDT', 'KUB_USDT', 'KUMA_USDT', 'KWS_USDT', 'KYVE_USDT', 'KZEN_USDT', 'L3P_USDT', 'LABS_USDT', 'LADYS_USDT', 'LAI_USDT', 'LAMB_USDT', 'LAND_USDT', 'LARIX_USDT', 'LAT_USDT', 'LAVA_USDT', 'LAYER_USDT', 'LAZIO_USDT', 'LBA_USDT', 'LBK_USDT', 'LBLOCK_USDT', 'LBL_USDT', 'LBR_USDT', 'LDO_USDT', 'LEASH_USDT', 'LEMD_USDT', 'LEMN_USDT', 'LEMO_USDT', 'LEO_USDT', 'LEVER_USDT', 'LEV_USDT', 'LFW_USDT', 'LGCY_USDT', 'LGX_USDT', 'LIEN_USDT', 'LIFE_USDT', 'LIKE_USDT', 'LIME_USDT', 'LINA_USDT', 'LINK_USDT', 'LION_USDT', 'LIQUIDUS_USDT', 'LIQ_USDT', 'LITE_USDT', 'LITH_USDT', 'LIT_USDT', 'LKR_USDT', 'LMR_USDT', 'LMWR_USDT', 'LM_USDT', 'LOA_USDT', 'LOCG_USDT', 'LOGT_USDT', 'LOKA_USDT', 'LON_USDT', 'LOOKS_USDT', 'LOOM_USDT', 'LOON_USDT', 'LOOP_USDT', 'LOOT_USDT', 'LOVELY_USDT', 'LOWB_USDT', 'LPOOL_USDT', 'LPT_USDT', 'LQTY_USDT', 'LRC_USDT', 'LRN_USDT', 'LSD7_USDT', 'LSD_USDT', 'LSK_USDT', 'LSS_USDT', 'LTC_USDT', 'LTO_USDT', 'LUFFY_USDT', 'LUNA_USDT', 'LUNCH_USDT', 'LUNC_USDT', 'LUNR_USDT', 'LUS_USDT', 'LYM_USDT', 'LYXE_USDT', 'MAGIC_USDT', 'MAHA_USDT', 'MAJO_USDT', 'MANA_USDT', 'MAN_USDT', 'MAPE_USDT', 'MAPS_USDT', 'MARO_USDT', 'MARSH_USDT', 'MARS_USDT', 'MART_USDT', 'MASK_USDT', 'MATCH_USDT', 'MATH_USDT', 'MATIC_USDT', 'MATTER_USDT', 'MAT_USDT', 'MAV_USDT', 'MBL_USDT', 'MBOX_USDT', 'MBS_USDT', 'MBX_USDT', 'MCASH_USDT', 'MCG_USDT', 'MCO2_USDT', 'MCRN_USDT', 'MCRT_USDT', 'MDAO_USDT', 'MDA_USDT', 'MDF_USDT', 'MDS_USDT', 'MDT_USDT', 'MDX_USDT', 'MEAN_USDT', 'MED_USDT', 'MELD_USDT', 'MELI_USDT', 'MEMEBRC_USDT', 'MEME_USDT', 'MENGO_USDT', 'MEPAD_USDT', 'MESA_USDT', 'METALDR_USDT', 'METAL_USDT', 'METAN_USDT', 'METAX_USDT', 'METFI_USDT', 'METIS_USDT', 'METO_USDT', 'MET_USDT', 'MFOOTBALL_USDT', 'MGA_USDT', 'MGG_USDT', 'MGKL_USDT', 'MHUNT_USDT', 'MILO_USDT', 'MIMIR_USDT', 'MINA_USDT', 'MINE_USDT', 'MINI_USDT', 'MINT_USDT', 'MIR_USDT', 'MIST_USDT', 'MIS_USDT', 'MITH_USDT', 'MIX_USDT', 'MKR_USDT', 'MLK_USDT', 'MLN_USDT', 'MLS_USDT', 'MLT_USDT', 'ML_USDT', 'MMM_USDT', 'MMPRO_USDT', 'MM_USDT', 'MNDE_USDT', 'MNGO_USDT', 'MNT_USDT', 'MNW_USDT', 'MNZ_USDT', 'MOBI_USDT', 'MOB_USDT', 'MODA_USDT', 'MOFI_USDT', 'MOJO_USDT', 'MOMA_USDT', 'MONG_USDT', 'MONI_USDT', 'MOONEY_USDT', 'MOON_USDT', 'MOOO_USDT', 'MOOV_USDT', 'MOO_USDT', 'MOTG_USDT', 'MOT_USDT', 'MOVEZ_USDT', 'MOVR_USDT', 'MPH_USDT', 'MPI_USDT', 'MPLX_USDT', 'MPL_USDT', 'MQL_USDT', 'MRCH_USDT', 'MSOL_USDT', 'MSU_USDT', 'MSWAP_USDT', 'MTA_USDT', 'MTD_USDT', 'MTG_USDT', 'MTL_USDT', 'MTN_USDT', 'MTRG_USDT', 'MTR_USDT', 'MTS_USDT', 'MTV_USDT', 'MULTI_USDT', 'MURATIAI_USDT', 'MUSE_USDT', 'MV_USDT', 'MXC_USDT', 'MYRA_USDT', 'MYRIA_USDT', 'MYTH_USDT', 'NADA_USDT', 'NAFT_USDT', 'NAKA_USDT', 'NALS_USDT', 'NANO_USDT', 'NAOS_USDT', 'NAP_USDT', 'NAS_USDT', 'NAVI_USDT', 'NAX_USDT', 'NBLU_USDT', 'NBOT_USDT', 'NBP_USDT', 'NBS_USDT', 'NBT_USDT', 'NCT_USDT', 'NEAR_USDT', 'NEBL_USDT', 'NEER_USDT', 'NEON_USDT', 'NEO_USDT', 'NERD_USDT', 'NEST_USDT', 'NEXO_USDT', 'NEXT_USDT', 'NFTB_USDT', 'NFTD_USDT', 'NFTL_USDT', 'NFTX_USDT', 'NFTY_USDT', 'NFT_USDT', 'NGL_USDT', 'NIFT_USDT', 'NIIFI_USDT', 'NII_USDT', 'NIM_USDT', 'NKN_USDT', 'NMR_USDT', 'NMT_USDT', 'NOA_USDT', 'NODL_USDT', 'NOIA_USDT', 'NOM_USDT', 'NOOT_USDT', 'NORD_USDT', 'NOS_USDT', 'NPT_USDT', 'NRFB_USDT', 'NRV_USDT', 'NSBT_USDT', 'NSDX_USDT', 'NSURE_USDT', 'NTRN_USDT', 'NULS_USDT', 'NUM_USDT', 'NUX_USDT', 'NVG_USDT', 'NVIR_USDT', 'NWC_USDT', 'NXD_USDT', 'NYM_USDT', 'NYZO_USDT', 'O3_USDT', 'OAS_USDT', 'OAX_USDT', 'OBI_USDT', 'OCC_USDT', 'OCEAN_USDT', 'OCN_USDT', 'OCTO_USDT', 'OCT_USDT', 'ODDZ_USDT', 'OGN_USDT', 'OGV_USDT', 'OG_USDT', 'OIN_USDT', 'OKB_USDT', 'OKT_USDT', 'OLAND_USDT', 'OLE_USDT', 'OLT_USDT', 'OLV_USDT', 'OLY_USDT', 'OME_USDT', 'OMG_USDT', 'OMI_USDT', 'OMN_USDT', 'OM_USDT', 'ONC_USDT', 'ONE_USDT', 'ONG_USDT', 'ONIT_USDT', 'ONS_USDT', 'ONT_USDT', 'ONX_USDT', 'OOE_USDT', 'OOKI_USDT', 'OPA_USDT', 'OPEN_USDT', 'OPIUM_USDT', 'OPN_USDT', 'OPS_USDT', 'OPTIMUS_USDT', 'OPUL_USDT', 'OP_USDT', 'ORAI_USDT', 'ORAO_USDT', 'ORBR_USDT', 'ORBS_USDT', 'ORB_USDT', 'ORCA_USDT', 'ORC_USDT', 'ORDI_USDT', 'ORION_USDT', 'ORN_USDT', 'ORO_USDT', 'ORTB_USDT', 'ORT_USDT', 'OSHI_USDT', 'OSMO_USDT', 'OST_USDT', 'OUSD_USDT', 'OVO_USDT', 'OVR_USDT', 'OXT_USDT', 'OXY_USDT', 'OX_USDT', 'P00LS_USDT', 'PAAL_USDT', 'PAF_USDT', 'PANDO_USDT', 'PARA_USDT', 'PAW_USDT', 'PAY_USDT', 'PBR_USDT', 'PBTC35A_USDT', 'PBX_USDT', 'PCNT_USDT', 'PCX_USDT', 'PDEX_USDT', 'PEARL_USDT', 'PENDLE_USDT', 'PEOPLE_USDT', 'PEPE2_USDT', 'PEPEBRC_USDT', 'PEPE_USDT', 'PERA_USDT', 'PERC_USDT', 'PERI_USDT', 'PERL_USDT', 'PERP_USDT', 'PET_USDT', 'PHA_USDT', 'PHB_USDT', 'PHM_USDT', 'PHTR_USDT', 'PIAS_USDT', 'PICA_USDT', 'PICKLE_USDT', 'PIG_USDT', 'PINE_USDT', 'PING_USDT', 'PIP_USDT', 'PIT_USDT', 'PIXEL_USDT', 'PIZABRC_USDT', 'PIZA_USDT', 'PI_USDT', 'PKF_USDT', 'PLACE_USDT', 'PLANET_USDT', 'PLAY_USDT', 'PLA_USDT', 'PLCU_USDT', 'PLSPAD_USDT', 'PMON_USDT', 'PNG_USDT', 'PNK_USDT', 'PNL_USDT', 'PNT_USDT', 'POGAI_USDT', 'POG_USDT', 'POKT_USDT', 'POLC_USDT', 'POLIS_USDT', 'POLI_USDT', 'POLK_USDT', 'POLS_USDT', 'POLYDOGE_USDT', 'POLYPAD_USDT', 'POLYX_USDT', 'POND_USDT', 'POOH_USDT', 'POOLX_USDT', 'POOL_USDT', 'POPK_USDT', 'POP_USDT', 'PORTO_USDT', 'PORTX_USDT', 'PORT_USDT', 'POR_USDT', 'POSI_USDT', 'POT_USDT', 'POWR_USDT', 'PPAD_USDT', 'PPS_USDT', 'PPT_USDT', 'PRARE_USDT', 'PRIDE_USDT', 'PRIMAL_USDT', 'PRIME_USDT', 'PRISM_USDT', 'PRMX_USDT', 'PROM_USDT', 'PROPS_USDT', 'PROS_USDT', 'PRQ_USDT', 'PRT_USDT', 'PRX_USDT', 'PSB_USDT', 'PSG_USDT', 'PSI_USDT', 'PSL_USDT', 'PSP_USDT', 'PSTAKE_USDT', 'PST_USDT', 'PSY_USDT', 'PTS_USDT', 'PUMLX_USDT', 'PUNDIX_USDT', 'PUSH_USDT', 'PVU_USDT', 'PWAR_USDT', 'PYME_USDT', 'PYM_USDT', 'PYR_USDT', 'PYUSD_USDT', 'PZP_USDT', 'QANX_USDT', 'QASH_USDT', 'QBT_USDT', 'QI_USDT', 'QKC_USDT', 'QLC_USDT', 'QNT_USDT', 'QRDO_USDT', 'QSP_USDT', 'QTCON_USDT', 'QTC_USDT', 'QTUM_USDT', 'QUACK_USDT', 'QUICK_USDT', 'QWAN_USDT', 'RACA_USDT', 'RADAR_USDT', 'RAD_USDT', 'RAFT_USDT', 'RAGE_USDT', 'RAI_USDT', 'RAMP_USDT', 'RAM_USDT', 'RANKER_USDT', 'RARE_USDT', 'RARI_USDT', 'RATING_USDT', 'RATIO_USDT', 'RAY_USDT', 'RAZE_USDT', 'RAZOR_USDT', 'RBC_USDT', 'RBLS_USDT', 'RBN_USDT', 'RCN_USDT', 'RDF_USDT', 'RDNT_USDT', 'RDN_USDT', 'REALM_USDT', 'REAL_USDT', 'REAP_USDT', 'REDTOKEN_USDT', 'RED_USDT', 'REEF_USDT', 'REELT_USDT', 'REF_USDT', 'REIGN_USDT', 'REI_USDT', 'REKT_USDT', 'REM_USDT', 'RENA_USDT', 'RENBTC_USDT', 'REN_USDT', 'REP_USDT', 'REQ_USDT', 'REVOLAND_USDT', 'REVO_USDT', 'REVU_USDT', 'REVV_USDT', 'RFD_USDT', 'RFOX_USDT', 'RFR_USDT', 'RFT_USDT', 'RFUEL_USDT', 'RGT_USDT', 'RICE_USDT', 'RIDE_USDT', 'RIF_USDT', 'RIM_USDT', 'RING_USDT', 'RIN_USDT', 'RITE_USDT', 'RJV_USDT', 'RLC_USDT', 'RLTM_USDT', 'RLY_USDT', 'RMRK_USDT', 'RNDR_USDT', 'RNDX_USDT', 'ROCO_USDT', 'RON_USDT', 'ROOBEE_USDT', 'ROOM_USDT', 'ROSE_USDT', 'ROUTE_USDT', 'RPL_USDT', 'RSR_USDT', 'RSS3_USDT', 'RUFF_USDT', 'RUNE_USDT', 'RVC_USDT', 'RVN_USDT', 'SAFEMARS_USDT', 'SAFEREUM_USDT', 'SAIL_USDT', 'SAITAMA_USDT', 'SAITO_USDT', 'SAKE_USDT', 'SALT_USDT', 'SAMO_USDT', 'SANDWICH_USDT', 'SAND_USDT', 'SANTOS_USDT', 'SAO_USDT', 'SASHIMI_USDT', 'SAUBER_USDT', 'SAVG_USDT', 'SBR_USDT', 'SBTC_USDT', 'SCCP_USDT', 'SCLP_USDT', 'SCNSOL_USDT', 'SCRT_USDT', 'SCT_USDT', 'SCY_USDT', 'SC_USDT', 'SDAO_USDT', 'SDEX_USDT', 'SDN_USDT', 'SD_USDT', 'SEILOR_USDT', 'SEI_USDT', 'SENATE_USDT', 'SENC_USDT', 'SENSO_USDT', 'SERO_USDT', 'SFG_USDT', 'SFIL_USDT', 'SFI_USDT', 'SFM_USDT', 'SFP_USDT', 'SFTY_USDT', 'SFUND_USDT', 'SGB_USDT', 'SHARE_USDT', 'SHFT_USDT', 'SHIB2_USDT', 'SHIBAI_USDT', 'SHIB_USDT', 'SHILL_USDT', 'SHI_USDT', 'SHOE_USDT', 'SHOPNEXT_USDT', 'SHOPX_USDT', 'SHPING_USDT', 'SHR_USDT', 'SHX_USDT', 'SIDUS_USDT', 'SINGLE_USDT', 'SIN_USDT', 'SIS_USDT', 'SKEB_USDT', 'SKILL_USDT', 'SKL_USDT', 'SKM_USDT', 'SKRT_USDT', 'SKT_USDT', 'SKU_USDT', 'SKYRIM_USDT', 'SLC_USDT', 'SLG_USDT', 'SLICE_USDT', 'SLIM_USDT', 'SLK_USDT', 'SLM_USDT', 'SLND_USDT', 'SLNV2_USDT', 'SLP_USDT', 'SLRS_USDT', 'SMART_USDT', 'SMTY_USDT', 'SMT_USDT', 'SMURFCAT_USDT', 'SNET_USDT', 'SNFT1_USDT', 'SNFT_USDT', 'SNK_USDT', 'SNM_USDT', 'SNOW_USDT', 'SNTR_USDT', 'SNT_USDT', 'SNX_USDT', 'SNY_USDT', 'SN_USDT', 'SOIL_USDT', 'SOLO_USDT', 'SOLR_USDT', 'SOL_USDT', 'SOMM_USDT', 'SONAR_USDT', 'SOPH_USDT', 'SOP_USDT', 'SOS_USDT', 'SOULS_USDT', 'SOUL_USDT', 'SOURCE_USDT', 'SOV_USDT', 'SPAY_USDT', 'SPA_USDT', 'SPELLFIRE_USDT', 'SPELL_USDT', 'SPEX_USDT', 'SPFC_USDT', 'SPHRI_USDT', 'SPIRIT_USDT', 'SPI_USDT', 'SPONGE_USDT', 'SPO_USDT', 'SPS_USDT', 'SPUME_USDT', 'SPURS_USDT', 'SQUAD_USDT', 'SQUIDGROW_USDT', 'SQUID_USDT', 'SRG_USDT', 'SRK_USDT', 'SRM_USDT', 'SRP_USDT', 'SRT_USDT', 'SSV_USDT', 'SSX_USDT', 'STAKE_USDT', 'STARL_USDT', 'STAR_USDT', 'STBU_USDT', 'STC_USDT', 'STEEM_USDT', 'STEPG_USDT', 'STEP_USDT', 'STETH_USDT', 'STG_USDT', 'STIK_USDT', 'STI_USDT', 'STMX_USDT', 'STND_USDT', 'STORE_USDT', 'STORJ_USDT', 'STOS_USDT', 'STOX_USDT', 'STPT_USDT', 'STRAX_USDT', 'STRM_USDT', 'STRONG_USDT', 'STRP_USDT', 'STSOL_USDT', 'STX_USDT', 'STZ_USDT', 'SUDO_USDT', 'SUGARB_USDT', 'SUIA_USDT', 'SUIP_USDT', 'SUI_USDT', 'SUKU_USDT', 'SUNNY_USDT', 'SUN_USDT', 'SUPER_USDT', 'SUPE_USDT', 'SUP_USDT', 'SUSD_USDT', 'SUSHI_USDT', 'SUTER_USDT', 'SWAP_USDT', 'SWASH_USDT', 'SWAY_USDT', 'SWEAT_USDT', 'SWFTC_USDT', 'SWOP_USDT', 'SWO_USDT', 'SWRV_USDT', 'SWTH_USDT', 'SXP_USDT', 'SYLO_USDT', 'SYN_USDT', 'SYS_USDT', 'T23_USDT', 'TABOO_USDT', 'TAI_USDT', 'TAKI_USDT', 'TALK_USDT', 'TAMA_USDT', 'TAO_USDT', 'TAPT_USDT', 'TAP_USDT', 'TARA_USDT', 'TARI_USDT', 'TAUR_USDT', 'TBE_USDT', 'TBTC_USDT', 'TCP_USDT', 'TCT_USDT', 'TDROP_USDT', 'TEDDY_USDT', 'TED_USDT', 'TEER_USDT', 'TENET_USDT', 'TFUEL_USDT', 'THALES_USDT', 'THEOS_USDT', 'THETA_USDT', 'THE_USDT', 'THG_USDT', 'THN_USDT', 'TIA_USDT', 'TIDAL_USDT', 'TIFI_USDT', 'TIMECHRONO_USDT', 'TIME_USDT', 'TIPS_USDT', 'TIP_USDT', 'TITA_USDT', 'TKO_USDT', 'TLM_USDT', 'TLOS_USDT', 'TNC_USDT', 'TOKAU_USDT', 'TOKEN_USDT', 'TOKE_USDT', 'TOMI_USDT', 'TOMO_USDT', 'TOMS_USDT', 'TONC_USDT', 'TON_USDT', 'TOOLS_USDT', 'TOTM_USDT', 'TPT_USDT', 'TRACE_USDT', 'TRAC_USDT', 'TRADE_USDT', 'TRA_USDT', 'TRB_USDT', 'TRCL_USDT', 'TRG_USDT', 'TRIAS_USDT', 'TRIBE_USDT', 'TROSS_USDT', 'TROY_USDT', 'TRR_USDT', 'TRU_USDT', 'TRVL_USDT', 'TRX_USDT', 'TSHP_USDT', 'TSL_USDT', 'TSUGT_USDT', 'TSUKA_USDT', 'TTK_USDT', 'TTT_USDT', 'TT_USDT', 'TULIP_USDT', 'TURBOS_USDT', 'TURBO_USDT', 'TUSD_USDT', 'TVK_USDT', 'TWITFI_USDT', 'TWT_USDT', 'TXT_USDT', 'TYPE_USDT', 'T_USDT', 'UBXS_USDT', 'UDO_USDT', 'UFI_USDT', 'UFO_USDT', 'UFT_USDT', 'ULU_USDT', 'UMA_USDT', 'UMB_USDT', 'UMEE_USDT', 'UNCX_USDT', 'UNDEAD_USDT', 'UNFI_USDT', 'UNIBOT_USDT', 'UNISTAKE_USDT', 'UNI_USDT', 'UNN_USDT', 'UNO_USDT', 'UNQ_USDT', 'UNT_USDT', 'UOS_USDT', 'UPI_USDT', 'URUS_USDT', 'USDC_USDT', 'USDD_USDT', 'USDG_USDT', 'USDN_USDT', 'USDP_USDT', 'USTC_USDT', 'UTK_USDT', 'VADER_USDT', 'VAI_USDT', 'VALUE_USDT', 'VATRENI_USDT', 'VC_USDT', 'VDR_USDT', 'VEE_USDT', 'VEGA_USDT', 'VELA_USDT', 'VELODROME_USDT', 'VELO_USDT', 'VEMP_USDT', 'VENT_USDT', 'VERA_USDT', 'VET_USDT', 'VEXT_USDT', 'VGX_USDT', 'VIDYX_USDT', 'VIDY_USDT', 'VINU_USDT', 'VISR_USDT', 'VLXPAD_USDT', 'VLX_USDT', 'VMPX_USDT', 'VMT_USDT', 'VNO_USDT', 'VOLT_USDT', 'VOXEL_USDT', 'VP_USDT', 'VRA_USDT', 'VRJAM_USDT', 'VRT_USDT', 'VRX_USDT', 'VR_USDT', 'VSO_USDT', 'VSP_USDT', 'VTG_USDT', 'VTHO_USDT', 'VTS_USDT', 'VVS_USDT', 'VXT_USDT', 'WAGMIGAMES_USDT', 'WAGYU_USDT', 'WAG_USDT', 'WALLET_USDT', 'WALV_USDT', 'WAM_USDT', 'WAR_USDT', 'WAS_USDT', 'WATT_USDT', 'WAVES_USDT', 'WAXL_USDT', 'WAXP_USDT', 'WBIRD_USDT', 'WBTC_USDT', 'WBT_USDT', 'WEAR_USDT', 'WELL_USDT', 'WEMIX_USDT', 'WEST_USDT', 'WEX_USDT', 'WFAI_USDT', 'WGRT_USDT', 'WHALE_USDT', 'WHITE_USDT', 'WICC_USDT', 'WIFI_USDT', 'WIKEN_USDT', 'WILD_USDT', 'WINGS_USDT', 'WING_USDT', 'WIN_USDT', 'WISTA_USDT', 'WIT_USDT', 'WKC_USDT', 'WLD_USDT', 'WLKN_USDT', 'WNCG_USDT', 'WNDR_USDT', 'WNXM_USDT', 'WNZ_USDT', 'WOJAK_USDT', 'WOM_USDT', 'WOOF_USDT', 'WOOP_USDT', 'WOO_USDT', 'WOZX_USDT', 'WRT_USDT', 'WRX_USDT', 'WSB_USDT', 'WSG_USDT', 'WSIENNA_USDT', 'WSI_USDT', 'WSM_USDT', 'WWY_USDT', 'WXT_USDT', 'WZM_USDT', 'WZRD_USDT', 'XAUT_USDT', 'XAVA_USDT', 'XCAD_USDT', 'XCH_USDT', 'XCN_USDT', 'XCUR_USDT', 'XCV_USDT', 'XDB_USDT', 'XDC_USDT', 'XDEFI_USDT', 'XEC_USDT', 'XED_USDT', 'XELS_USDT', 'XEM_USDT', 'XEND_USDT', 'XEN_USDT', 'XETA_USDT', 'XET_USDT', 'XIL_USDT', 'XLM_USDT', 'XMARK_USDT', 'XMC_USDT', 'XMON_USDT', 'XMR_USDT', 'XNFT_USDT', 'XNL_USDT', 'XOR_USDT', 'XPLA_USDT', 'XPLL_USDT', 'XPNET_USDT', 'XPRESS_USDT', 'XPRT_USDT', 'XPR_USDT', 'XRD_USDT', 'XRP_USDT', 'XRUNE_USDT', 'XTAG_USDT', 'XTZ_USDT', 'XVG_USDT', 'XVS_USDT', 'XWG_USDT', 'XYM_USDT', 'XYO_USDT', 'XY_USDT', 'YAM_USDT', 'YCT_USDT', 'YESP_USDT', 'YFDAI_USDT', 'YFII_USDT', 'YFI_USDT', 'YFX_USDT', 'YGG_USDT', 'YIELD_USDT', 'YIN_USDT', 'YLD_USDT', 'YOOSHI_USDT', 'ZAM_USDT', 'ZAT_USDT', 'ZBC_USDT', 'ZBU_USDT', 'ZCN_USDT', 'ZCX_USDT', 'ZEC_USDT', 'ZEE_USDT', 'ZELIX_USDT', 'ZEN_USDT', 'ZEUM_USDT', 'ZIG_USDT', 'ZIL_USDT', 'ZINU_USDT', 'ZIX_USDT', 'ZKS_USDT', 'ZKT_USDT', 'ZLK_USDT', 'ZLW_USDT', 'ZMT_USDT', 'ZODI_USDT', 'ZONE_USDT', 'ZOON_USDT', 'ZPT_USDT', 'ZRX_USDT', 'ZSC_USDT', 'ZTG_USDT', 'ZTX_USDT', 'ZZZ_USDT']\n"
     ]
    }
   ],
   "source": [
    "print(get_all_spot_usdt_pairs())"
   ],
   "metadata": {
    "collapsed": false,
    "ExecuteTime": {
     "end_time": "2023-11-08T10:04:14.426980600Z",
     "start_time": "2023-11-08T10:04:13.681780200Z"
    }
   }
  },
  {
   "cell_type": "code",
   "execution_count": 94,
   "outputs": [
    {
     "name": "stdout",
     "output_type": "stream",
     "text": [
      "[]\n"
     ]
    }
   ],
   "source": [
    "cs = get_candle_sticks('YGG_USDT', after='1620720000', interval='8h')\n",
    "print(cs)"
   ],
   "metadata": {
    "collapsed": false,
    "ExecuteTime": {
     "end_time": "2023-11-08T10:15:55.942780800Z",
     "start_time": "2023-11-08T10:15:54.951652800Z"
    }
   }
  },
  {
   "cell_type": "code",
   "execution_count": 11,
   "outputs": [],
   "source": [
    "def get_current_timestamp():\n",
    "    timestamp = int(time.time())\n",
    "    hour = timestamp // 3600 * 3600\n",
    "    return hour"
   ],
   "metadata": {
    "collapsed": false,
    "ExecuteTime": {
     "end_time": "2023-11-10T08:22:55.076479700Z",
     "start_time": "2023-11-10T08:22:55.058393500Z"
    }
   }
  },
  {
   "cell_type": "code",
   "execution_count": null,
   "outputs": [],
   "source": [],
   "metadata": {
    "collapsed": false
   }
  },
  {
   "cell_type": "code",
   "execution_count": 100,
   "outputs": [
    {
     "data": {
      "text/plain": "1699437600"
     },
     "execution_count": 100,
     "metadata": {},
     "output_type": "execute_result"
    }
   ],
   "source": [
    "get_current_timestamp()"
   ],
   "metadata": {
    "collapsed": false,
    "ExecuteTime": {
     "end_time": "2023-11-08T10:22:05.684164400Z",
     "start_time": "2023-11-08T10:22:05.655158100Z"
    }
   }
  },
  {
   "cell_type": "code",
   "execution_count": 106,
   "outputs": [
    {
     "name": "stdout",
     "output_type": "stream",
     "text": [
      "0\n",
      "0\n",
      "67\n",
      "100\n",
      "100\n",
      "100\n",
      "100\n",
      "100\n",
      "100\n",
      "100\n",
      "100\n",
      "100\n",
      "100\n",
      "100\n",
      "100\n",
      "100\n",
      "100\n",
      "100\n",
      "100\n",
      "100\n",
      "100\n",
      "100\n",
      "100\n",
      "100\n",
      "100\n",
      "100\n",
      "100\n",
      "34\n"
     ]
    }
   ],
   "source": [
    "candle_sticks = []\n",
    "for t in range(1620720000, 1699437600, 3600*800):\n",
    "    try:\n",
    "        tmp = get_candle_sticks('YGG_USDT', after=t, interval='8h')\n",
    "        print(len(tmp))\n",
    "        candle_sticks += tmp\n",
    "        time.sleep(1)\n",
    "    except Exception as e:\n",
    "        time.sleep(10)\n"
   ],
   "metadata": {
    "collapsed": false,
    "ExecuteTime": {
     "end_time": "2023-11-08T10:37:10.661952500Z",
     "start_time": "2023-11-08T10:35:54.639411100Z"
    }
   }
  },
  {
   "cell_type": "code",
   "execution_count": 108,
   "outputs": [
    {
     "name": "stdout",
     "output_type": "stream",
     "text": [
      "               0                       1        2        3        4        5  \\\n",
      "0     1627459200     336713.363133588113   1.7488    2.238    0.179    0.179   \n",
      "1     1627488000     611633.842362357654     1.42    1.808   1.3332   1.7393   \n",
      "2     1627516800     835876.729138228632   1.0105   1.4591    0.902    1.427   \n",
      "3     1627545600    1644828.425511968958    1.507   1.6378    0.995   1.0042   \n",
      "4     1627574400  948395.368630649732182   2.1759    2.215     1.48   1.5013   \n",
      "...          ...                     ...      ...      ...      ...      ...   \n",
      "2496  1699315200        1312526.73154526  0.34574  0.35507  0.33082  0.34385   \n",
      "2497  1699344000        1542710.70130229   0.3315   0.3688  0.33035   0.3458   \n",
      "2498  1699372800        1331541.10026113  0.37333   0.3765   0.3267  0.33087   \n",
      "2499  1699401600         949281.56094999  0.37995   0.3844  0.35631  0.37316   \n",
      "2500  1699430400         195310.79924661  0.38288  0.38452  0.37249  0.38029   \n",
      "\n",
      "                     6  \n",
      "0      174953.02713098  \n",
      "1      388193.60136466  \n",
      "2      794966.16964303  \n",
      "3     1209654.60396774  \n",
      "4       509526.2584008  \n",
      "...                ...  \n",
      "2496  3835133.94600000  \n",
      "2497  4418035.33724717  \n",
      "2498  3679908.54600000  \n",
      "2499  2547942.32000000  \n",
      "2500   514181.51800000  \n",
      "\n",
      "[2501 rows x 7 columns]\n"
     ]
    }
   ],
   "source": [
    "df = pd.DataFrame(candle_sticks)\n",
    "print(df)"
   ],
   "metadata": {
    "collapsed": false,
    "ExecuteTime": {
     "end_time": "2023-11-08T10:38:16.698102900Z",
     "start_time": "2023-11-08T10:38:16.638715800Z"
    }
   }
  },
  {
   "cell_type": "code",
   "execution_count": 115,
   "outputs": [
    {
     "name": "stdout",
     "output_type": "stream",
     "text": [
      "               0                 1        2        3        4        5  \\\n",
      "66    1699430400                 0   5.5935   5.5935   5.5935   5.5935   \n",
      "67    1629360000  2010062.11201349   7.0145   7.6022   6.1232     6.33   \n",
      "68    1629388800   941682.84652803   7.4191   7.4897   6.8988    7.016   \n",
      "69    1629417600   917358.02307554   7.6184    7.967   7.3942   7.4116   \n",
      "70    1629446400  1444712.27164156   8.2823   8.7935   7.5491   7.6184   \n",
      "...          ...               ...      ...      ...      ...      ...   \n",
      "2496  1699315200  1312526.73154526  0.34574  0.35507  0.33082  0.34385   \n",
      "2497  1699344000  1542710.70130229   0.3315   0.3688  0.33035   0.3458   \n",
      "2498  1699372800  1331541.10026113  0.37333   0.3765   0.3267  0.33087   \n",
      "2499  1699401600   949281.56094999  0.37995   0.3844  0.35631  0.37316   \n",
      "2500  1699430400   195310.79924661  0.38288  0.38452  0.37249  0.38029   \n",
      "\n",
      "                     6  \n",
      "66                   0  \n",
      "67     289008.76945840  \n",
      "68     129060.66020212  \n",
      "69     118406.91954619  \n",
      "70     175009.49346200  \n",
      "...                ...  \n",
      "2496  3835133.94600000  \n",
      "2497  4418035.33724717  \n",
      "2498  3679908.54600000  \n",
      "2499  2547942.32000000  \n",
      "2500   514181.51800000  \n",
      "\n",
      "[2435 rows x 7 columns]\n"
     ]
    }
   ],
   "source": [
    "print(df.iloc[66:][:])"
   ],
   "metadata": {
    "collapsed": false,
    "ExecuteTime": {
     "end_time": "2023-11-08T10:40:25.535885Z",
     "start_time": "2023-11-08T10:40:25.493870Z"
    }
   }
  },
  {
   "cell_type": "code",
   "execution_count": 111,
   "outputs": [
    {
     "data": {
      "text/plain": "28800"
     },
     "execution_count": 111,
     "metadata": {},
     "output_type": "execute_result"
    }
   ],
   "source": [
    "1627488000-1627459200"
   ],
   "metadata": {
    "collapsed": false,
    "ExecuteTime": {
     "end_time": "2023-11-08T10:39:24.680889900Z",
     "start_time": "2023-11-08T10:39:24.649540400Z"
    }
   }
  },
  {
   "cell_type": "code",
   "execution_count": 112,
   "outputs": [
    {
     "data": {
      "text/plain": "2880000"
     },
     "execution_count": 112,
     "metadata": {},
     "output_type": "execute_result"
    }
   ],
   "source": [
    "3600*800"
   ],
   "metadata": {
    "collapsed": false,
    "ExecuteTime": {
     "end_time": "2023-11-08T10:39:31.680107200Z",
     "start_time": "2023-11-08T10:39:31.634227500Z"
    }
   }
  },
  {
   "cell_type": "code",
   "execution_count": 7,
   "outputs": [],
   "source": [
    "import json\n",
    "\n",
    "# 读取 JSON 文件\n",
    "with open('D:/All about learning/Quant/gate/usdt_pairs.json', 'r') as file:\n",
    "    json_data = file.read()\n",
    "\n",
    "# 将 JSON 数据解析为字典\n",
    "data_dict = json.loads(json_data)\n",
    "\n",
    "# 现在 data_dict 中包含了 JSON 文件中的数据，你可以使用它进行后续操作"
   ],
   "metadata": {
    "collapsed": false,
    "ExecuteTime": {
     "end_time": "2023-11-10T08:09:07.548119300Z",
     "start_time": "2023-11-10T08:09:07.548119300Z"
    }
   }
  },
  {
   "cell_type": "code",
   "execution_count": 12,
   "outputs": [
    {
     "ename": "KeyboardInterrupt",
     "evalue": "",
     "output_type": "error",
     "traceback": [
      "\u001B[1;31m---------------------------------------------------------------------------\u001B[0m",
      "\u001B[1;31mKeyboardInterrupt\u001B[0m                         Traceback (most recent call last)",
      "Cell \u001B[1;32mIn[12], line 9\u001B[0m\n\u001B[0;32m      7\u001B[0m cur \u001B[38;5;241m=\u001B[39m get_current_timestamp()\n\u001B[0;32m      8\u001B[0m \u001B[38;5;28;01mwhile\u001B[39;00m start \u001B[38;5;241m<\u001B[39m cur:\n\u001B[1;32m----> 9\u001B[0m     tmp \u001B[38;5;241m=\u001B[39m \u001B[43mget_candle_sticks\u001B[49m\u001B[43m(\u001B[49m\u001B[43mpair\u001B[49m\u001B[43m,\u001B[49m\u001B[43m \u001B[49m\u001B[43mstart\u001B[49m\u001B[43m)\u001B[49m\n\u001B[0;32m     10\u001B[0m     \u001B[38;5;28;01mif\u001B[39;00m \u001B[38;5;28mlen\u001B[39m(tmp) \u001B[38;5;241m>\u001B[39m \u001B[38;5;241m0\u001B[39m:\n\u001B[0;32m     11\u001B[0m         \u001B[38;5;28;01mbreak\u001B[39;00m\n",
      "Cell \u001B[1;32mIn[2], line 13\u001B[0m, in \u001B[0;36mget_candle_sticks\u001B[1;34m(pair, after, before, interval)\u001B[0m\n\u001B[0;32m     10\u001B[0m \u001B[38;5;28;01mif\u001B[39;00m before \u001B[38;5;241m!=\u001B[39m \u001B[38;5;124m'\u001B[39m\u001B[38;5;124m'\u001B[39m:\n\u001B[0;32m     11\u001B[0m     query_param \u001B[38;5;241m+\u001B[39m\u001B[38;5;241m=\u001B[39m \u001B[38;5;124mf\u001B[39m\u001B[38;5;124m'\u001B[39m\u001B[38;5;124m&to=\u001B[39m\u001B[38;5;132;01m{\u001B[39;00mbefore\u001B[38;5;132;01m}\u001B[39;00m\u001B[38;5;124m'\u001B[39m\n\u001B[1;32m---> 13\u001B[0m r \u001B[38;5;241m=\u001B[39m \u001B[43mrequests\u001B[49m\u001B[38;5;241;43m.\u001B[39;49m\u001B[43mrequest\u001B[49m\u001B[43m(\u001B[49m\u001B[38;5;124;43m'\u001B[39;49m\u001B[38;5;124;43mGET\u001B[39;49m\u001B[38;5;124;43m'\u001B[39;49m\u001B[43m,\u001B[49m\u001B[43m \u001B[49m\u001B[43mhost\u001B[49m\u001B[43m \u001B[49m\u001B[38;5;241;43m+\u001B[39;49m\u001B[43m \u001B[49m\u001B[43mprefix\u001B[49m\u001B[43m \u001B[49m\u001B[38;5;241;43m+\u001B[39;49m\u001B[43m \u001B[49m\u001B[43murl\u001B[49m\u001B[43m \u001B[49m\u001B[38;5;241;43m+\u001B[39;49m\u001B[43m \u001B[49m\u001B[38;5;124;43m\"\u001B[39;49m\u001B[38;5;124;43m?\u001B[39;49m\u001B[38;5;124;43m\"\u001B[39;49m\u001B[43m \u001B[49m\u001B[38;5;241;43m+\u001B[39;49m\u001B[43m \u001B[49m\u001B[43mquery_param\u001B[49m\u001B[43m,\u001B[49m\u001B[43m \u001B[49m\u001B[43mheaders\u001B[49m\u001B[38;5;241;43m=\u001B[39;49m\u001B[43mheaders\u001B[49m\u001B[43m)\u001B[49m\n\u001B[0;32m     14\u001B[0m \u001B[38;5;28;01mreturn\u001B[39;00m r\u001B[38;5;241m.\u001B[39mjson()\n",
      "File \u001B[1;32m~\\PycharmProjects\\okx_data_analysis\\venv\\lib\\site-packages\\requests\\api.py:59\u001B[0m, in \u001B[0;36mrequest\u001B[1;34m(method, url, **kwargs)\u001B[0m\n\u001B[0;32m     55\u001B[0m \u001B[38;5;66;03m# By using the 'with' statement we are sure the session is closed, thus we\u001B[39;00m\n\u001B[0;32m     56\u001B[0m \u001B[38;5;66;03m# avoid leaving sockets open which can trigger a ResourceWarning in some\u001B[39;00m\n\u001B[0;32m     57\u001B[0m \u001B[38;5;66;03m# cases, and look like a memory leak in others.\u001B[39;00m\n\u001B[0;32m     58\u001B[0m \u001B[38;5;28;01mwith\u001B[39;00m sessions\u001B[38;5;241m.\u001B[39mSession() \u001B[38;5;28;01mas\u001B[39;00m session:\n\u001B[1;32m---> 59\u001B[0m     \u001B[38;5;28;01mreturn\u001B[39;00m session\u001B[38;5;241m.\u001B[39mrequest(method\u001B[38;5;241m=\u001B[39mmethod, url\u001B[38;5;241m=\u001B[39murl, \u001B[38;5;241m*\u001B[39m\u001B[38;5;241m*\u001B[39mkwargs)\n",
      "File \u001B[1;32m~\\PycharmProjects\\okx_data_analysis\\venv\\lib\\site-packages\\requests\\sessions.py:589\u001B[0m, in \u001B[0;36mSession.request\u001B[1;34m(self, method, url, params, data, headers, cookies, files, auth, timeout, allow_redirects, proxies, hooks, stream, verify, cert, json)\u001B[0m\n\u001B[0;32m    584\u001B[0m send_kwargs \u001B[38;5;241m=\u001B[39m {\n\u001B[0;32m    585\u001B[0m     \u001B[38;5;124m\"\u001B[39m\u001B[38;5;124mtimeout\u001B[39m\u001B[38;5;124m\"\u001B[39m: timeout,\n\u001B[0;32m    586\u001B[0m     \u001B[38;5;124m\"\u001B[39m\u001B[38;5;124mallow_redirects\u001B[39m\u001B[38;5;124m\"\u001B[39m: allow_redirects,\n\u001B[0;32m    587\u001B[0m }\n\u001B[0;32m    588\u001B[0m send_kwargs\u001B[38;5;241m.\u001B[39mupdate(settings)\n\u001B[1;32m--> 589\u001B[0m resp \u001B[38;5;241m=\u001B[39m \u001B[38;5;28mself\u001B[39m\u001B[38;5;241m.\u001B[39msend(prep, \u001B[38;5;241m*\u001B[39m\u001B[38;5;241m*\u001B[39msend_kwargs)\n\u001B[0;32m    591\u001B[0m \u001B[38;5;28;01mreturn\u001B[39;00m resp\n",
      "File \u001B[1;32m~\\PycharmProjects\\okx_data_analysis\\venv\\lib\\site-packages\\requests\\sessions.py:703\u001B[0m, in \u001B[0;36mSession.send\u001B[1;34m(self, request, **kwargs)\u001B[0m\n\u001B[0;32m    700\u001B[0m start \u001B[38;5;241m=\u001B[39m preferred_clock()\n\u001B[0;32m    702\u001B[0m \u001B[38;5;66;03m# Send the request\u001B[39;00m\n\u001B[1;32m--> 703\u001B[0m r \u001B[38;5;241m=\u001B[39m adapter\u001B[38;5;241m.\u001B[39msend(request, \u001B[38;5;241m*\u001B[39m\u001B[38;5;241m*\u001B[39mkwargs)\n\u001B[0;32m    705\u001B[0m \u001B[38;5;66;03m# Total elapsed time of the request (approximately)\u001B[39;00m\n\u001B[0;32m    706\u001B[0m elapsed \u001B[38;5;241m=\u001B[39m preferred_clock() \u001B[38;5;241m-\u001B[39m start\n",
      "File \u001B[1;32m~\\PycharmProjects\\okx_data_analysis\\venv\\lib\\site-packages\\requests\\adapters.py:486\u001B[0m, in \u001B[0;36mHTTPAdapter.send\u001B[1;34m(self, request, stream, timeout, verify, cert, proxies)\u001B[0m\n\u001B[0;32m    483\u001B[0m     timeout \u001B[38;5;241m=\u001B[39m TimeoutSauce(connect\u001B[38;5;241m=\u001B[39mtimeout, read\u001B[38;5;241m=\u001B[39mtimeout)\n\u001B[0;32m    485\u001B[0m \u001B[38;5;28;01mtry\u001B[39;00m:\n\u001B[1;32m--> 486\u001B[0m     resp \u001B[38;5;241m=\u001B[39m \u001B[43mconn\u001B[49m\u001B[38;5;241;43m.\u001B[39;49m\u001B[43murlopen\u001B[49m\u001B[43m(\u001B[49m\n\u001B[0;32m    487\u001B[0m \u001B[43m        \u001B[49m\u001B[43mmethod\u001B[49m\u001B[38;5;241;43m=\u001B[39;49m\u001B[43mrequest\u001B[49m\u001B[38;5;241;43m.\u001B[39;49m\u001B[43mmethod\u001B[49m\u001B[43m,\u001B[49m\n\u001B[0;32m    488\u001B[0m \u001B[43m        \u001B[49m\u001B[43murl\u001B[49m\u001B[38;5;241;43m=\u001B[39;49m\u001B[43murl\u001B[49m\u001B[43m,\u001B[49m\n\u001B[0;32m    489\u001B[0m \u001B[43m        \u001B[49m\u001B[43mbody\u001B[49m\u001B[38;5;241;43m=\u001B[39;49m\u001B[43mrequest\u001B[49m\u001B[38;5;241;43m.\u001B[39;49m\u001B[43mbody\u001B[49m\u001B[43m,\u001B[49m\n\u001B[0;32m    490\u001B[0m \u001B[43m        \u001B[49m\u001B[43mheaders\u001B[49m\u001B[38;5;241;43m=\u001B[39;49m\u001B[43mrequest\u001B[49m\u001B[38;5;241;43m.\u001B[39;49m\u001B[43mheaders\u001B[49m\u001B[43m,\u001B[49m\n\u001B[0;32m    491\u001B[0m \u001B[43m        \u001B[49m\u001B[43mredirect\u001B[49m\u001B[38;5;241;43m=\u001B[39;49m\u001B[38;5;28;43;01mFalse\u001B[39;49;00m\u001B[43m,\u001B[49m\n\u001B[0;32m    492\u001B[0m \u001B[43m        \u001B[49m\u001B[43massert_same_host\u001B[49m\u001B[38;5;241;43m=\u001B[39;49m\u001B[38;5;28;43;01mFalse\u001B[39;49;00m\u001B[43m,\u001B[49m\n\u001B[0;32m    493\u001B[0m \u001B[43m        \u001B[49m\u001B[43mpreload_content\u001B[49m\u001B[38;5;241;43m=\u001B[39;49m\u001B[38;5;28;43;01mFalse\u001B[39;49;00m\u001B[43m,\u001B[49m\n\u001B[0;32m    494\u001B[0m \u001B[43m        \u001B[49m\u001B[43mdecode_content\u001B[49m\u001B[38;5;241;43m=\u001B[39;49m\u001B[38;5;28;43;01mFalse\u001B[39;49;00m\u001B[43m,\u001B[49m\n\u001B[0;32m    495\u001B[0m \u001B[43m        \u001B[49m\u001B[43mretries\u001B[49m\u001B[38;5;241;43m=\u001B[39;49m\u001B[38;5;28;43mself\u001B[39;49m\u001B[38;5;241;43m.\u001B[39;49m\u001B[43mmax_retries\u001B[49m\u001B[43m,\u001B[49m\n\u001B[0;32m    496\u001B[0m \u001B[43m        \u001B[49m\u001B[43mtimeout\u001B[49m\u001B[38;5;241;43m=\u001B[39;49m\u001B[43mtimeout\u001B[49m\u001B[43m,\u001B[49m\n\u001B[0;32m    497\u001B[0m \u001B[43m        \u001B[49m\u001B[43mchunked\u001B[49m\u001B[38;5;241;43m=\u001B[39;49m\u001B[43mchunked\u001B[49m\u001B[43m,\u001B[49m\n\u001B[0;32m    498\u001B[0m \u001B[43m    \u001B[49m\u001B[43m)\u001B[49m\n\u001B[0;32m    500\u001B[0m \u001B[38;5;28;01mexcept\u001B[39;00m (ProtocolError, \u001B[38;5;167;01mOSError\u001B[39;00m) \u001B[38;5;28;01mas\u001B[39;00m err:\n\u001B[0;32m    501\u001B[0m     \u001B[38;5;28;01mraise\u001B[39;00m \u001B[38;5;167;01mConnectionError\u001B[39;00m(err, request\u001B[38;5;241m=\u001B[39mrequest)\n",
      "File \u001B[1;32m~\\PycharmProjects\\okx_data_analysis\\venv\\lib\\site-packages\\urllib3\\connectionpool.py:700\u001B[0m, in \u001B[0;36mHTTPConnectionPool.urlopen\u001B[1;34m(self, method, url, body, headers, retries, redirect, assert_same_host, timeout, pool_timeout, release_conn, chunked, body_pos, **response_kw)\u001B[0m\n\u001B[0;32m    696\u001B[0m is_new_proxy_conn \u001B[38;5;241m=\u001B[39m \u001B[38;5;28mself\u001B[39m\u001B[38;5;241m.\u001B[39mproxy \u001B[38;5;129;01mis\u001B[39;00m \u001B[38;5;129;01mnot\u001B[39;00m \u001B[38;5;28;01mNone\u001B[39;00m \u001B[38;5;129;01mand\u001B[39;00m \u001B[38;5;129;01mnot\u001B[39;00m \u001B[38;5;28mgetattr\u001B[39m(\n\u001B[0;32m    697\u001B[0m     conn, \u001B[38;5;124m\"\u001B[39m\u001B[38;5;124msock\u001B[39m\u001B[38;5;124m\"\u001B[39m, \u001B[38;5;28;01mNone\u001B[39;00m\n\u001B[0;32m    698\u001B[0m )\n\u001B[0;32m    699\u001B[0m \u001B[38;5;28;01mif\u001B[39;00m is_new_proxy_conn \u001B[38;5;129;01mand\u001B[39;00m http_tunnel_required:\n\u001B[1;32m--> 700\u001B[0m     \u001B[38;5;28;43mself\u001B[39;49m\u001B[38;5;241;43m.\u001B[39;49m\u001B[43m_prepare_proxy\u001B[49m\u001B[43m(\u001B[49m\u001B[43mconn\u001B[49m\u001B[43m)\u001B[49m\n\u001B[0;32m    702\u001B[0m \u001B[38;5;66;03m# Make the request on the httplib connection object.\u001B[39;00m\n\u001B[0;32m    703\u001B[0m httplib_response \u001B[38;5;241m=\u001B[39m \u001B[38;5;28mself\u001B[39m\u001B[38;5;241m.\u001B[39m_make_request(\n\u001B[0;32m    704\u001B[0m     conn,\n\u001B[0;32m    705\u001B[0m     method,\n\u001B[1;32m   (...)\u001B[0m\n\u001B[0;32m    710\u001B[0m     chunked\u001B[38;5;241m=\u001B[39mchunked,\n\u001B[0;32m    711\u001B[0m )\n",
      "File \u001B[1;32m~\\PycharmProjects\\okx_data_analysis\\venv\\lib\\site-packages\\urllib3\\connectionpool.py:996\u001B[0m, in \u001B[0;36mHTTPSConnectionPool._prepare_proxy\u001B[1;34m(self, conn)\u001B[0m\n\u001B[0;32m    993\u001B[0m \u001B[38;5;28;01mif\u001B[39;00m \u001B[38;5;28mself\u001B[39m\u001B[38;5;241m.\u001B[39mproxy\u001B[38;5;241m.\u001B[39mscheme \u001B[38;5;241m==\u001B[39m \u001B[38;5;124m\"\u001B[39m\u001B[38;5;124mhttps\u001B[39m\u001B[38;5;124m\"\u001B[39m:\n\u001B[0;32m    994\u001B[0m     conn\u001B[38;5;241m.\u001B[39mtls_in_tls_required \u001B[38;5;241m=\u001B[39m \u001B[38;5;28;01mTrue\u001B[39;00m\n\u001B[1;32m--> 996\u001B[0m \u001B[43mconn\u001B[49m\u001B[38;5;241;43m.\u001B[39;49m\u001B[43mconnect\u001B[49m\u001B[43m(\u001B[49m\u001B[43m)\u001B[49m\n",
      "File \u001B[1;32m~\\PycharmProjects\\okx_data_analysis\\venv\\lib\\site-packages\\urllib3\\connection.py:414\u001B[0m, in \u001B[0;36mHTTPSConnection.connect\u001B[1;34m(self)\u001B[0m\n\u001B[0;32m    405\u001B[0m \u001B[38;5;28;01mif\u001B[39;00m (\n\u001B[0;32m    406\u001B[0m     \u001B[38;5;129;01mnot\u001B[39;00m \u001B[38;5;28mself\u001B[39m\u001B[38;5;241m.\u001B[39mca_certs\n\u001B[0;32m    407\u001B[0m     \u001B[38;5;129;01mand\u001B[39;00m \u001B[38;5;129;01mnot\u001B[39;00m \u001B[38;5;28mself\u001B[39m\u001B[38;5;241m.\u001B[39mca_cert_dir\n\u001B[1;32m   (...)\u001B[0m\n\u001B[0;32m    410\u001B[0m     \u001B[38;5;129;01mand\u001B[39;00m \u001B[38;5;28mhasattr\u001B[39m(context, \u001B[38;5;124m\"\u001B[39m\u001B[38;5;124mload_default_certs\u001B[39m\u001B[38;5;124m\"\u001B[39m)\n\u001B[0;32m    411\u001B[0m ):\n\u001B[0;32m    412\u001B[0m     context\u001B[38;5;241m.\u001B[39mload_default_certs()\n\u001B[1;32m--> 414\u001B[0m \u001B[38;5;28mself\u001B[39m\u001B[38;5;241m.\u001B[39msock \u001B[38;5;241m=\u001B[39m \u001B[43mssl_wrap_socket\u001B[49m\u001B[43m(\u001B[49m\n\u001B[0;32m    415\u001B[0m \u001B[43m    \u001B[49m\u001B[43msock\u001B[49m\u001B[38;5;241;43m=\u001B[39;49m\u001B[43mconn\u001B[49m\u001B[43m,\u001B[49m\n\u001B[0;32m    416\u001B[0m \u001B[43m    \u001B[49m\u001B[43mkeyfile\u001B[49m\u001B[38;5;241;43m=\u001B[39;49m\u001B[38;5;28;43mself\u001B[39;49m\u001B[38;5;241;43m.\u001B[39;49m\u001B[43mkey_file\u001B[49m\u001B[43m,\u001B[49m\n\u001B[0;32m    417\u001B[0m \u001B[43m    \u001B[49m\u001B[43mcertfile\u001B[49m\u001B[38;5;241;43m=\u001B[39;49m\u001B[38;5;28;43mself\u001B[39;49m\u001B[38;5;241;43m.\u001B[39;49m\u001B[43mcert_file\u001B[49m\u001B[43m,\u001B[49m\n\u001B[0;32m    418\u001B[0m \u001B[43m    \u001B[49m\u001B[43mkey_password\u001B[49m\u001B[38;5;241;43m=\u001B[39;49m\u001B[38;5;28;43mself\u001B[39;49m\u001B[38;5;241;43m.\u001B[39;49m\u001B[43mkey_password\u001B[49m\u001B[43m,\u001B[49m\n\u001B[0;32m    419\u001B[0m \u001B[43m    \u001B[49m\u001B[43mca_certs\u001B[49m\u001B[38;5;241;43m=\u001B[39;49m\u001B[38;5;28;43mself\u001B[39;49m\u001B[38;5;241;43m.\u001B[39;49m\u001B[43mca_certs\u001B[49m\u001B[43m,\u001B[49m\n\u001B[0;32m    420\u001B[0m \u001B[43m    \u001B[49m\u001B[43mca_cert_dir\u001B[49m\u001B[38;5;241;43m=\u001B[39;49m\u001B[38;5;28;43mself\u001B[39;49m\u001B[38;5;241;43m.\u001B[39;49m\u001B[43mca_cert_dir\u001B[49m\u001B[43m,\u001B[49m\n\u001B[0;32m    421\u001B[0m \u001B[43m    \u001B[49m\u001B[43mca_cert_data\u001B[49m\u001B[38;5;241;43m=\u001B[39;49m\u001B[38;5;28;43mself\u001B[39;49m\u001B[38;5;241;43m.\u001B[39;49m\u001B[43mca_cert_data\u001B[49m\u001B[43m,\u001B[49m\n\u001B[0;32m    422\u001B[0m \u001B[43m    \u001B[49m\u001B[43mserver_hostname\u001B[49m\u001B[38;5;241;43m=\u001B[39;49m\u001B[43mserver_hostname\u001B[49m\u001B[43m,\u001B[49m\n\u001B[0;32m    423\u001B[0m \u001B[43m    \u001B[49m\u001B[43mssl_context\u001B[49m\u001B[38;5;241;43m=\u001B[39;49m\u001B[43mcontext\u001B[49m\u001B[43m,\u001B[49m\n\u001B[0;32m    424\u001B[0m \u001B[43m    \u001B[49m\u001B[43mtls_in_tls\u001B[49m\u001B[38;5;241;43m=\u001B[39;49m\u001B[43mtls_in_tls\u001B[49m\u001B[43m,\u001B[49m\n\u001B[0;32m    425\u001B[0m \u001B[43m\u001B[49m\u001B[43m)\u001B[49m\n\u001B[0;32m    427\u001B[0m \u001B[38;5;66;03m# If we're using all defaults and the connection\u001B[39;00m\n\u001B[0;32m    428\u001B[0m \u001B[38;5;66;03m# is TLSv1 or TLSv1.1 we throw a DeprecationWarning\u001B[39;00m\n\u001B[0;32m    429\u001B[0m \u001B[38;5;66;03m# for the host.\u001B[39;00m\n\u001B[0;32m    430\u001B[0m \u001B[38;5;28;01mif\u001B[39;00m (\n\u001B[0;32m    431\u001B[0m     default_ssl_context\n\u001B[0;32m    432\u001B[0m     \u001B[38;5;129;01mand\u001B[39;00m \u001B[38;5;28mself\u001B[39m\u001B[38;5;241m.\u001B[39mssl_version \u001B[38;5;129;01mis\u001B[39;00m \u001B[38;5;28;01mNone\u001B[39;00m\n\u001B[0;32m    433\u001B[0m     \u001B[38;5;129;01mand\u001B[39;00m \u001B[38;5;28mhasattr\u001B[39m(\u001B[38;5;28mself\u001B[39m\u001B[38;5;241m.\u001B[39msock, \u001B[38;5;124m\"\u001B[39m\u001B[38;5;124mversion\u001B[39m\u001B[38;5;124m\"\u001B[39m)\n\u001B[0;32m    434\u001B[0m     \u001B[38;5;129;01mand\u001B[39;00m \u001B[38;5;28mself\u001B[39m\u001B[38;5;241m.\u001B[39msock\u001B[38;5;241m.\u001B[39mversion() \u001B[38;5;129;01min\u001B[39;00m {\u001B[38;5;124m\"\u001B[39m\u001B[38;5;124mTLSv1\u001B[39m\u001B[38;5;124m\"\u001B[39m, \u001B[38;5;124m\"\u001B[39m\u001B[38;5;124mTLSv1.1\u001B[39m\u001B[38;5;124m\"\u001B[39m}\n\u001B[0;32m    435\u001B[0m ):\n",
      "File \u001B[1;32m~\\PycharmProjects\\okx_data_analysis\\venv\\lib\\site-packages\\urllib3\\util\\ssl_.py:449\u001B[0m, in \u001B[0;36mssl_wrap_socket\u001B[1;34m(sock, keyfile, certfile, cert_reqs, ca_certs, server_hostname, ssl_version, ciphers, ssl_context, ca_cert_dir, key_password, ca_cert_data, tls_in_tls)\u001B[0m\n\u001B[0;32m    437\u001B[0m     warnings\u001B[38;5;241m.\u001B[39mwarn(\n\u001B[0;32m    438\u001B[0m         \u001B[38;5;124m\"\u001B[39m\u001B[38;5;124mAn HTTPS request has been made, but the SNI (Server Name \u001B[39m\u001B[38;5;124m\"\u001B[39m\n\u001B[0;32m    439\u001B[0m         \u001B[38;5;124m\"\u001B[39m\u001B[38;5;124mIndication) extension to TLS is not available on this platform. \u001B[39m\u001B[38;5;124m\"\u001B[39m\n\u001B[1;32m   (...)\u001B[0m\n\u001B[0;32m    445\u001B[0m         SNIMissingWarning,\n\u001B[0;32m    446\u001B[0m     )\n\u001B[0;32m    448\u001B[0m \u001B[38;5;28;01mif\u001B[39;00m send_sni:\n\u001B[1;32m--> 449\u001B[0m     ssl_sock \u001B[38;5;241m=\u001B[39m \u001B[43m_ssl_wrap_socket_impl\u001B[49m\u001B[43m(\u001B[49m\n\u001B[0;32m    450\u001B[0m \u001B[43m        \u001B[49m\u001B[43msock\u001B[49m\u001B[43m,\u001B[49m\u001B[43m \u001B[49m\u001B[43mcontext\u001B[49m\u001B[43m,\u001B[49m\u001B[43m \u001B[49m\u001B[43mtls_in_tls\u001B[49m\u001B[43m,\u001B[49m\u001B[43m \u001B[49m\u001B[43mserver_hostname\u001B[49m\u001B[38;5;241;43m=\u001B[39;49m\u001B[43mserver_hostname\u001B[49m\n\u001B[0;32m    451\u001B[0m \u001B[43m    \u001B[49m\u001B[43m)\u001B[49m\n\u001B[0;32m    452\u001B[0m \u001B[38;5;28;01melse\u001B[39;00m:\n\u001B[0;32m    453\u001B[0m     ssl_sock \u001B[38;5;241m=\u001B[39m _ssl_wrap_socket_impl(sock, context, tls_in_tls)\n",
      "File \u001B[1;32m~\\PycharmProjects\\okx_data_analysis\\venv\\lib\\site-packages\\urllib3\\util\\ssl_.py:493\u001B[0m, in \u001B[0;36m_ssl_wrap_socket_impl\u001B[1;34m(sock, ssl_context, tls_in_tls, server_hostname)\u001B[0m\n\u001B[0;32m    490\u001B[0m     \u001B[38;5;28;01mreturn\u001B[39;00m SSLTransport(sock, ssl_context, server_hostname)\n\u001B[0;32m    492\u001B[0m \u001B[38;5;28;01mif\u001B[39;00m server_hostname:\n\u001B[1;32m--> 493\u001B[0m     \u001B[38;5;28;01mreturn\u001B[39;00m \u001B[43mssl_context\u001B[49m\u001B[38;5;241;43m.\u001B[39;49m\u001B[43mwrap_socket\u001B[49m\u001B[43m(\u001B[49m\u001B[43msock\u001B[49m\u001B[43m,\u001B[49m\u001B[43m \u001B[49m\u001B[43mserver_hostname\u001B[49m\u001B[38;5;241;43m=\u001B[39;49m\u001B[43mserver_hostname\u001B[49m\u001B[43m)\u001B[49m\n\u001B[0;32m    494\u001B[0m \u001B[38;5;28;01melse\u001B[39;00m:\n\u001B[0;32m    495\u001B[0m     \u001B[38;5;28;01mreturn\u001B[39;00m ssl_context\u001B[38;5;241m.\u001B[39mwrap_socket(sock)\n",
      "File \u001B[1;32m~\\AppData\\Local\\Programs\\Python\\Python39\\lib\\ssl.py:501\u001B[0m, in \u001B[0;36mSSLContext.wrap_socket\u001B[1;34m(self, sock, server_side, do_handshake_on_connect, suppress_ragged_eofs, server_hostname, session)\u001B[0m\n\u001B[0;32m    495\u001B[0m \u001B[38;5;28;01mdef\u001B[39;00m \u001B[38;5;21mwrap_socket\u001B[39m(\u001B[38;5;28mself\u001B[39m, sock, server_side\u001B[38;5;241m=\u001B[39m\u001B[38;5;28;01mFalse\u001B[39;00m,\n\u001B[0;32m    496\u001B[0m                 do_handshake_on_connect\u001B[38;5;241m=\u001B[39m\u001B[38;5;28;01mTrue\u001B[39;00m,\n\u001B[0;32m    497\u001B[0m                 suppress_ragged_eofs\u001B[38;5;241m=\u001B[39m\u001B[38;5;28;01mTrue\u001B[39;00m,\n\u001B[0;32m    498\u001B[0m                 server_hostname\u001B[38;5;241m=\u001B[39m\u001B[38;5;28;01mNone\u001B[39;00m, session\u001B[38;5;241m=\u001B[39m\u001B[38;5;28;01mNone\u001B[39;00m):\n\u001B[0;32m    499\u001B[0m     \u001B[38;5;66;03m# SSLSocket class handles server_hostname encoding before it calls\u001B[39;00m\n\u001B[0;32m    500\u001B[0m     \u001B[38;5;66;03m# ctx._wrap_socket()\u001B[39;00m\n\u001B[1;32m--> 501\u001B[0m     \u001B[38;5;28;01mreturn\u001B[39;00m \u001B[38;5;28;43mself\u001B[39;49m\u001B[38;5;241;43m.\u001B[39;49m\u001B[43msslsocket_class\u001B[49m\u001B[38;5;241;43m.\u001B[39;49m\u001B[43m_create\u001B[49m\u001B[43m(\u001B[49m\n\u001B[0;32m    502\u001B[0m \u001B[43m        \u001B[49m\u001B[43msock\u001B[49m\u001B[38;5;241;43m=\u001B[39;49m\u001B[43msock\u001B[49m\u001B[43m,\u001B[49m\n\u001B[0;32m    503\u001B[0m \u001B[43m        \u001B[49m\u001B[43mserver_side\u001B[49m\u001B[38;5;241;43m=\u001B[39;49m\u001B[43mserver_side\u001B[49m\u001B[43m,\u001B[49m\n\u001B[0;32m    504\u001B[0m \u001B[43m        \u001B[49m\u001B[43mdo_handshake_on_connect\u001B[49m\u001B[38;5;241;43m=\u001B[39;49m\u001B[43mdo_handshake_on_connect\u001B[49m\u001B[43m,\u001B[49m\n\u001B[0;32m    505\u001B[0m \u001B[43m        \u001B[49m\u001B[43msuppress_ragged_eofs\u001B[49m\u001B[38;5;241;43m=\u001B[39;49m\u001B[43msuppress_ragged_eofs\u001B[49m\u001B[43m,\u001B[49m\n\u001B[0;32m    506\u001B[0m \u001B[43m        \u001B[49m\u001B[43mserver_hostname\u001B[49m\u001B[38;5;241;43m=\u001B[39;49m\u001B[43mserver_hostname\u001B[49m\u001B[43m,\u001B[49m\n\u001B[0;32m    507\u001B[0m \u001B[43m        \u001B[49m\u001B[43mcontext\u001B[49m\u001B[38;5;241;43m=\u001B[39;49m\u001B[38;5;28;43mself\u001B[39;49m\u001B[43m,\u001B[49m\n\u001B[0;32m    508\u001B[0m \u001B[43m        \u001B[49m\u001B[43msession\u001B[49m\u001B[38;5;241;43m=\u001B[39;49m\u001B[43msession\u001B[49m\n\u001B[0;32m    509\u001B[0m \u001B[43m    \u001B[49m\u001B[43m)\u001B[49m\n",
      "File \u001B[1;32m~\\AppData\\Local\\Programs\\Python\\Python39\\lib\\ssl.py:1041\u001B[0m, in \u001B[0;36mSSLSocket._create\u001B[1;34m(cls, sock, server_side, do_handshake_on_connect, suppress_ragged_eofs, server_hostname, context, session)\u001B[0m\n\u001B[0;32m   1038\u001B[0m         \u001B[38;5;28;01mif\u001B[39;00m timeout \u001B[38;5;241m==\u001B[39m \u001B[38;5;241m0.0\u001B[39m:\n\u001B[0;32m   1039\u001B[0m             \u001B[38;5;66;03m# non-blocking\u001B[39;00m\n\u001B[0;32m   1040\u001B[0m             \u001B[38;5;28;01mraise\u001B[39;00m \u001B[38;5;167;01mValueError\u001B[39;00m(\u001B[38;5;124m\"\u001B[39m\u001B[38;5;124mdo_handshake_on_connect should not be specified for non-blocking sockets\u001B[39m\u001B[38;5;124m\"\u001B[39m)\n\u001B[1;32m-> 1041\u001B[0m         \u001B[38;5;28;43mself\u001B[39;49m\u001B[38;5;241;43m.\u001B[39;49m\u001B[43mdo_handshake\u001B[49m\u001B[43m(\u001B[49m\u001B[43m)\u001B[49m\n\u001B[0;32m   1042\u001B[0m \u001B[38;5;28;01mexcept\u001B[39;00m (\u001B[38;5;167;01mOSError\u001B[39;00m, \u001B[38;5;167;01mValueError\u001B[39;00m):\n\u001B[0;32m   1043\u001B[0m     \u001B[38;5;28mself\u001B[39m\u001B[38;5;241m.\u001B[39mclose()\n",
      "File \u001B[1;32m~\\AppData\\Local\\Programs\\Python\\Python39\\lib\\ssl.py:1310\u001B[0m, in \u001B[0;36mSSLSocket.do_handshake\u001B[1;34m(self, block)\u001B[0m\n\u001B[0;32m   1308\u001B[0m     \u001B[38;5;28;01mif\u001B[39;00m timeout \u001B[38;5;241m==\u001B[39m \u001B[38;5;241m0.0\u001B[39m \u001B[38;5;129;01mand\u001B[39;00m block:\n\u001B[0;32m   1309\u001B[0m         \u001B[38;5;28mself\u001B[39m\u001B[38;5;241m.\u001B[39msettimeout(\u001B[38;5;28;01mNone\u001B[39;00m)\n\u001B[1;32m-> 1310\u001B[0m     \u001B[38;5;28;43mself\u001B[39;49m\u001B[38;5;241;43m.\u001B[39;49m\u001B[43m_sslobj\u001B[49m\u001B[38;5;241;43m.\u001B[39;49m\u001B[43mdo_handshake\u001B[49m\u001B[43m(\u001B[49m\u001B[43m)\u001B[49m\n\u001B[0;32m   1311\u001B[0m \u001B[38;5;28;01mfinally\u001B[39;00m:\n\u001B[0;32m   1312\u001B[0m     \u001B[38;5;28mself\u001B[39m\u001B[38;5;241m.\u001B[39msettimeout(timeout)\n",
      "\u001B[1;31mKeyboardInterrupt\u001B[0m: "
     ]
    }
   ],
   "source": [
    "for pair in data_dict:\n",
    "    start = data_dict[pair]\n",
    "\n",
    "    if start > 0:\n",
    "        continue\n",
    "\n",
    "    cur = get_current_timestamp()\n",
    "    while start < cur:\n",
    "        tmp = get_candle_sticks(pair, start)\n",
    "        if len(tmp) > 0:\n",
    "            break\n",
    "        start += 100*8*60*60 # 100条 8h\n",
    "\n",
    "    print(f'{pair}: start {start}')\n",
    "    data_dict[pair] = start"
   ],
   "metadata": {
    "collapsed": false,
    "ExecuteTime": {
     "end_time": "2023-11-10T08:26:21.019374100Z",
     "start_time": "2023-11-10T08:22:59.866151400Z"
    }
   }
  },
  {
   "cell_type": "code",
   "execution_count": 9,
   "outputs": [
    {
     "data": {
      "text/plain": "[]"
     },
     "execution_count": 9,
     "metadata": {},
     "output_type": "execute_result"
    }
   ],
   "source": [
    "get_candle_sticks('BTC_USDT', '0')"
   ],
   "metadata": {
    "collapsed": false,
    "ExecuteTime": {
     "end_time": "2023-11-10T08:17:42.208933600Z",
     "start_time": "2023-11-10T08:17:41.521741700Z"
    }
   }
  },
  {
   "cell_type": "code",
   "execution_count": null,
   "outputs": [],
   "source": [],
   "metadata": {
    "collapsed": false
   }
  }
 ],
 "metadata": {
  "kernelspec": {
   "display_name": "Python 3",
   "language": "python",
   "name": "python3"
  },
  "language_info": {
   "codemirror_mode": {
    "name": "ipython",
    "version": 2
   },
   "file_extension": ".py",
   "mimetype": "text/x-python",
   "name": "python",
   "nbconvert_exporter": "python",
   "pygments_lexer": "ipython2",
   "version": "2.7.6"
  }
 },
 "nbformat": 4,
 "nbformat_minor": 0
}
